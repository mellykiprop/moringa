{
 "cells": [
  {
   "cell_type": "markdown",
   "id": "7c3040ee-18ab-4a8b-be69-03bdc117cb06",
   "metadata": {
    "tags": []
   },
   "source": [
    "# Dictionary\n",
    "*data type that stores data using '''Key : value'''pairs\n",
    "*use curly brackets ('''{}''') to define dictionaries in python\n",
    "*syntax \n",
    "'''Key : value'''"
   ]
  },
  {
   "cell_type": "code",
   "execution_count": 63,
   "id": "b42e6126-4680-4186-8aa0-49914628bd62",
   "metadata": {
    "tags": []
   },
   "outputs": [
    {
     "name": "stdout",
     "output_type": "stream",
     "text": [
      "{'Name': 'Leon Melly', 'id': '1234', 'Gender': 'Male'}\n"
     ]
    }
   ],
   "source": [
    "# example 1\n",
    "student = {\n",
    "     \"Name\" : \"Leon Melly\",\n",
    "     \"id\" : \"1234\",\n",
    "     \"Gender\" : \"Male\",\n",
    "}\n",
    "print(student)    "
   ]
  },
  {
   "cell_type": "code",
   "execution_count": 105,
   "id": "c543e10b-d678-4fe0-a328-b05b32f9972d",
   "metadata": {
    "tags": []
   },
   "outputs": [
    {
     "name": "stdout",
     "output_type": "stream",
     "text": [
      "{'sky': ['Nyambane', 'Eugene', 'Yusuf'], 'friends of sky': ['Martin', 'Lumumba', 'Chemu'], 'Kitchen cabinet': ['Maggy', 'Eva', 'Linda'], 'Office keepers': ['Kocheli', 'Ngoiro', 'John']}\n"
     ]
    }
   ],
   "source": [
    "# example 2\n",
    "\n",
    "office = {\n",
    "    \"sky\" : [\"Nyambane\",\"Eugene\",\"Yusuf\"],\n",
    "    \"friends of sky\" : [\"Martin\",\"Lumumba\",\"Chemu\"],\n",
    "    \"Kitchen cabinet\" : [\"Maggy\",\"Eva\",\"Linda\"],\n",
    "    \"Office keepers\" : [\"Kocheli\",\"Ngoiro\",\"John\"]\n",
    "}\n",
    "print(office)"
   ]
  },
  {
   "cell_type": "code",
   "execution_count": 100,
   "id": "67a02519-7bb5-4e15-8f60-cb595e258425",
   "metadata": {
    "tags": []
   },
   "outputs": [
    {
     "data": {
      "text/plain": [
       "dict_keys(['sky', 'friends of sky', 'Kitchen cabinet', 'Office keepers'])"
      ]
     },
     "execution_count": 100,
     "metadata": {},
     "output_type": "execute_result"
    }
   ],
   "source": [
    "# keys of the dictionary\n",
    "office.keys()"
   ]
  },
  {
   "cell_type": "code",
   "execution_count": 101,
   "id": "72dbab8f-ef70-42b9-9d90-5ff67fa32e10",
   "metadata": {
    "tags": []
   },
   "outputs": [
    {
     "name": "stdout",
     "output_type": "stream",
     "text": [
      "['Kocheli', 'Ngoiro', 'John']\n"
     ]
    }
   ],
   "source": [
    "# access values in a dictionary using keys\n",
    "# synthax dictionary_name[key]\n",
    "print(office[\"Office keepers\"])"
   ]
  },
  {
   "cell_type": "code",
   "execution_count": 106,
   "id": "ad2aede1-605b-4e4a-8f1b-341d01d8b2b5",
   "metadata": {
    "tags": []
   },
   "outputs": [
    {
     "name": "stdout",
     "output_type": "stream",
     "text": [
      "['Nyambane', 'Eugene', 'Yusuf']\n"
     ]
    }
   ],
   "source": [
    "# Sky team\n",
    "print(office[\"sky\"])"
   ]
  },
  {
   "cell_type": "code",
   "execution_count": 108,
   "id": "f90a6e72-40d4-40b9-a549-4013cbb37518",
   "metadata": {
    "tags": []
   },
   "outputs": [
    {
     "name": "stdout",
     "output_type": "stream",
     "text": [
      "['Nyambane', 'Eugene', 'Yusuf', 'kirui']\n"
     ]
    }
   ],
   "source": [
    "# Remember lists append\n",
    "if \"Kirui\" in office[\"sky\"]:\n",
    "    print(\"present\")\n",
    "else:\n",
    "    office[\"sky\"].append (\"kirui\")\n",
    "print(office[\"sky\"])"
   ]
  },
  {
   "cell_type": "code",
   "execution_count": 109,
   "id": "6b3905b3-9466-4083-a913-e87133eb1050",
   "metadata": {
    "tags": []
   },
   "outputs": [
    {
     "name": "stdout",
     "output_type": "stream",
     "text": [
      "['Yusuf']\n"
     ]
    }
   ],
   "source": [
    "# sky\n",
    "\n",
    "print([\"Yusuf\"])"
   ]
  },
  {
   "cell_type": "code",
   "execution_count": 113,
   "id": "a891203a-40c3-4666-bf37-b2469dc3161b",
   "metadata": {
    "tags": []
   },
   "outputs": [],
   "source": [
    "# cafe\n",
    "menu = {\n",
    "    \"Breakfast\" : {\n",
    "        \"Bevarages\" : {\n",
    "            \"Tea\" : [\"Masala\", \"Ginger\", \"caramel\"],\n",
    "            \"coffee\" : [\"Black\", \"white\", \"Latte\"],\n",
    "            \"cocoa\" : [\"hot chocolate\", \"free range\"],\n",
    "        },\n",
    "    \n",
    "        \"accompaniment\" : {\n",
    "            \"wings\" : [\"hot wings\", \"spicy\", \"lemon and herbs\"],\n",
    "            \"kienyeji\" : [\"nduma\", \"nguashe\", \"cassava\"],\n",
    "        },\n",
    "      },\n",
    "    \"lunch\" : {\n",
    "        \"carbohydrates\" : [\"ugali\", \"mokimo\", \"rice\"],\n",
    "        \"vegs\" : [\"sukuma\", \"cabbage\"],\n",
    "        \"proteins\" : [\"chicken\", \"fish\", \"mutton\"],\n",
    "    }\n",
    "}   "
   ]
  },
  {
   "cell_type": "code",
   "execution_count": 116,
   "id": "5d6cab66-2d90-472d-a48d-e193b0c7697f",
   "metadata": {
    "tags": []
   },
   "outputs": [
    {
     "name": "stdout",
     "output_type": "stream",
     "text": [
      "{'Breakfast': {'Bevarages': {'Tea': ['Masala', 'Ginger', 'caramel'], 'coffee': ['Black', 'white', 'Latte'], 'cocoa': ['hot chocolate', 'free range']}, 'accompaniment': {'wings': ['hot wings', 'spicy', 'lemon and herbs'], 'kienyeji': ['nduma', 'nguashe', 'cassava']}}, 'lunch': {'carbohydrates': ['ugali', 'mokimo', 'rice'], 'vegs': ['sukuma', 'cabbage'], 'proteins': ['chicken', 'fish', 'mutton']}}\n"
     ]
    }
   ],
   "source": [
    "print(menu)"
   ]
  },
  {
   "cell_type": "code",
   "execution_count": 117,
   "id": "82fdd75a-00d5-4853-a99a-e132c32e8282",
   "metadata": {
    "tags": []
   },
   "outputs": [
    {
     "name": "stdout",
     "output_type": "stream",
     "text": [
      "{'Bevarages': {'Tea': ['Masala', 'Ginger', 'caramel'], 'coffee': ['Black', 'white', 'Latte'], 'cocoa': ['hot chocolate', 'free range']}, 'accompaniment': {'wings': ['hot wings', 'spicy', 'lemon and herbs'], 'kienyeji': ['nduma', 'nguashe', 'cassava']}}\n"
     ]
    }
   ],
   "source": [
    "print(menu[\"Breakfast\"])"
   ]
  },
  {
   "cell_type": "code",
   "execution_count": 119,
   "id": "9c5307b3-6dc1-46f1-bbae-f7652c0a9c78",
   "metadata": {
    "tags": []
   },
   "outputs": [
    {
     "name": "stdout",
     "output_type": "stream",
     "text": [
      "['Masala', 'Ginger', 'caramel']\n"
     ]
    }
   ],
   "source": [
    "print(menu[\"Breakfast\"][\"Bevarages\"][\"Tea\"])"
   ]
  },
  {
   "cell_type": "code",
   "execution_count": 121,
   "id": "785f7ee8-d215-4f99-89e7-f8482db3d79c",
   "metadata": {
    "tags": []
   },
   "outputs": [
    {
     "name": "stdout",
     "output_type": "stream",
     "text": [
      " Melly had the following for Breakfast: \n",
      "\t* Ginger\n"
     ]
    }
   ],
   "source": [
    "print(f\" Melly had the following for Breakfast: \\n\\t* {menu['Breakfast']['Bevarages']['Tea'][1]}\")"
   ]
  },
  {
   "cell_type": "code",
   "execution_count": null,
   "id": "a1dba6c6-41ae-40d6-9fbb-90a61f6ed028",
   "metadata": {},
   "outputs": [],
   "source": []
  },
  {
   "cell_type": "code",
   "execution_count": null,
   "id": "6130f9f0-6a94-42f3-8354-5053115393a2",
   "metadata": {},
   "outputs": [],
   "source": []
  }
 ],
 "metadata": {
  "kernelspec": {
   "display_name": "Python 3 (ipykernel)",
   "language": "python",
   "name": "python3"
  },
  "language_info": {
   "codemirror_mode": {
    "name": "ipython",
    "version": 3
   },
   "file_extension": ".py",
   "mimetype": "text/x-python",
   "name": "python",
   "nbconvert_exporter": "python",
   "pygments_lexer": "ipython3",
   "version": "3.11.3"
  }
 },
 "nbformat": 4,
 "nbformat_minor": 5
}
