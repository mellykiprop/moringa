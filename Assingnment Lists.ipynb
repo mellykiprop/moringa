{
 "cells": [
  {
   "cell_type": "markdown",
   "id": "8fae5507-7613-4f97-81c9-615ccf80104f",
   "metadata": {},
   "source": [
    "### Accessing elements from a list"
   ]
  },
  {
   "cell_type": "code",
   "execution_count": 9,
   "id": "ceeced16-5945-4114-af57-3846301ca6e2",
   "metadata": {
    "tags": []
   },
   "outputs": [
    {
     "name": "stdout",
     "output_type": "stream",
     "text": [
      "['Croatia', 'USA', 'Argentina', 'Mexico', 'USA', 'Morocco', 'New Mexico', 'Finland', 'Argentina', 'Italy', 'Canada', 'South Korea']\n"
     ]
    }
   ],
   "source": [
    "countries = ['Croatia',\n",
    "\n",
    "'USA',\n",
    "\n",
    "'Argentina',\n",
    "\n",
    "'Mexico',\n",
    "\n",
    "'USA',\n",
    "\n",
    "'Morocco',\n",
    "\n",
    "'New Mexico',\n",
    "\n",
    "'Finland',\n",
    "\n",
    "'Argentina',\n",
    "\n",
    "'Italy',\n",
    "\n",
    "'Canada',\n",
    "\n",
    "'South Korea']\n",
    "print(countries)"
   ]
  },
  {
   "cell_type": "code",
   "execution_count": 10,
   "id": "5a0089e6-5de7-47a6-b6cc-9384c504c64f",
   "metadata": {
    "tags": []
   },
   "outputs": [
    {
     "name": "stdout",
     "output_type": "stream",
     "text": [
      "Italy\n"
     ]
    }
   ],
   "source": [
    "Italy = countries[-3]\n",
    "print(Italy)"
   ]
  },
  {
   "cell_type": "code",
   "execution_count": 11,
   "id": "153d0ee0-985d-425e-b9fa-3c758805da14",
   "metadata": {
    "tags": []
   },
   "outputs": [
    {
     "name": "stdout",
     "output_type": "stream",
     "text": [
      "Mexico\n"
     ]
    }
   ],
   "source": [
    "mexico = countries[3]\n",
    "print(mexico)"
   ]
  },
  {
   "cell_type": "code",
   "execution_count": 12,
   "id": "8ae2aee3-f68c-4768-bfec-feaca0bb3778",
   "metadata": {
    "tags": []
   },
   "outputs": [
    {
     "name": "stdout",
     "output_type": "stream",
     "text": [
      "['Argentina', 'Mexico', 'USA', 'Morocco']\n"
     ]
    }
   ],
   "source": [
    "kindof_neighbors = countries[2:6]\n",
    "print(kindof_neighbors)"
   ]
  },
  {
   "cell_type": "markdown",
   "id": "4833dcd7-d83a-47c1-982b-da6836053232",
   "metadata": {},
   "source": [
    "### changing elements"
   ]
  },
  {
   "cell_type": "code",
   "execution_count": 19,
   "id": "f9e38252-a8eb-4d38-9557-1c4efb0e833a",
   "metadata": {
    "tags": []
   },
   "outputs": [
    {
     "name": "stdout",
     "output_type": "stream",
     "text": [
      "['Croatia', 'USA', 'Argentina', 'Mexico', 'USA', 'Morocco', 'New Mexico', 'Finland', 'Argentina', 'Italy', 'Canada', 'South Korea', 'malta', 'Thailand']\n"
     ]
    }
   ],
   "source": [
    "countries = ['Croatia',\n",
    "\n",
    "'USA',\n",
    "\n",
    "'Argentina',\n",
    "\n",
    "'Mexico',\n",
    "\n",
    "'USA',\n",
    "\n",
    "'Morocco',\n",
    "\n",
    "'New Mexico',\n",
    "\n",
    "'Finland',\n",
    "\n",
    "'Argentina',\n",
    "\n",
    "'Italy',\n",
    "\n",
    "'Canada',\n",
    "\n",
    "'South Korea']\n",
    "countries.append('malta')\n",
    "countries.append('Thailand')\n",
    "print(countries)"
   ]
  },
  {
   "cell_type": "code",
   "execution_count": 24,
   "id": "58391371-3291-4608-a643-df8bc0f05114",
   "metadata": {
    "tags": []
   },
   "outputs": [
    {
     "name": "stdout",
     "output_type": "stream",
     "text": [
      "['Croatia', 'USA', 'Argentina', 'Mexico', 'USA', 'USA', 'USA', 'Finland', 'Argentina', 'Italy', 'Canada', 'South Korea', 'malta', 'Thailand']\n"
     ]
    }
   ],
   "source": [
    "countries [6] = 'USA'\n",
    "print(countries)"
   ]
  },
  {
   "cell_type": "code",
   "execution_count": 26,
   "id": "8254e677-a3a1-4314-9a37-e2f12d642a18",
   "metadata": {
    "tags": []
   },
   "outputs": [
    {
     "name": "stdout",
     "output_type": "stream",
     "text": [
      "['Croatia', 'USA', 'Argentina', 'Mexico', 'USA', 'Morocco', 'USA', 'Finland', 'Argentina', 'Italy', 'Canada', 'South Korea', 'malta', 'Thailand']\n"
     ]
    }
   ],
   "source": [
    "countries [5] = 'Morocco'\n",
    "print(countries)"
   ]
  },
  {
   "cell_type": "code",
   "execution_count": 37,
   "id": "8a90e93a-5f69-41e1-8410-8311d83898a7",
   "metadata": {
    "tags": []
   },
   "outputs": [
    {
     "name": "stdout",
     "output_type": "stream",
     "text": [
      "['Croatia', 'USA', 'Argentina', 'Mexico', 'USA', 'Morocco', 'USA', 'Finland', 'Argentina', 'Italy', 'Canada', 'South Korea', 'malta']\n"
     ]
    }
   ],
   "source": [
    "countries.pop(-1)\n",
    "print(countries)"
   ]
  },
  {
   "cell_type": "markdown",
   "id": "85bfd67d-3983-4f31-81b5-c0fec70a03f3",
   "metadata": {},
   "source": [
    "### Exploring lists with methods"
   ]
  },
  {
   "cell_type": "code",
   "execution_count": 55,
   "id": "6bf89639-b63d-402b-8c5c-cc6af94032da",
   "metadata": {
    "tags": []
   },
   "outputs": [
    {
     "name": "stdout",
     "output_type": "stream",
     "text": [
      "{'Italy', 'Argentina', 'Croatia', 'Morocco', 'USA', 'Mexico', 'malta', 'South Korea', 'Canada', 'Finland'}\n"
     ]
    }
   ],
   "source": [
    "unique_countries = set(countries)\n",
    "print(unique_countries)"
   ]
  },
  {
   "cell_type": "code",
   "execution_count": 66,
   "id": "7834795c-7cca-4c76-94bc-8e57ece5054b",
   "metadata": {
    "tags": []
   },
   "outputs": [
    {
     "data": {
      "text/plain": [
       "list"
      ]
     },
     "execution_count": 66,
     "metadata": {},
     "output_type": "execute_result"
    }
   ],
   "source": [
    "unique_countries = list(unique_countries)\n",
    "type(unique_countries)"
   ]
  },
  {
   "cell_type": "code",
   "execution_count": 49,
   "id": "f43afb0d-4cb2-4b2e-a6ba-db7248725030",
   "metadata": {
    "tags": []
   },
   "outputs": [
    {
     "data": {
      "text/plain": [
       "10"
      ]
     },
     "execution_count": 49,
     "metadata": {},
     "output_type": "execute_result"
    }
   ],
   "source": [
    "len(unique_countries)"
   ]
  },
  {
   "cell_type": "code",
   "execution_count": 68,
   "id": "337a1a63-44fc-456f-afe9-5e6bc22cc445",
   "metadata": {
    "tags": []
   },
   "outputs": [
    {
     "name": "stdout",
     "output_type": "stream",
     "text": [
      "['Croatia', 'USA', 'Argentina', 'Mexico', 'USA', 'Morocco', 'New Mexico', 'Finland', 'Argentina', 'Italy', 'Canada', 'South Korea']\n"
     ]
    }
   ],
   "source": [
    "countries = ['Croatia', 'USA', 'Argentina', 'Mexico', 'USA', 'Morocco', 'New Mexico', 'Finland', 'Argentina', 'Italy', 'Canada', 'South Korea']\n",
    "print(countries)"
   ]
  },
  {
   "cell_type": "code",
   "execution_count": 69,
   "id": "8462dd57-bb28-4955-8f7b-636a65ea0ee6",
   "metadata": {
    "tags": []
   },
   "outputs": [
    {
     "data": {
      "text/plain": [
       "12"
      ]
     },
     "execution_count": 69,
     "metadata": {},
     "output_type": "execute_result"
    }
   ],
   "source": [
    "len(countries)"
   ]
  },
  {
   "cell_type": "code",
   "execution_count": 72,
   "id": "f3fe4ccf-6ad8-47be-be9d-400d89893aab",
   "metadata": {
    "tags": []
   },
   "outputs": [
    {
     "name": "stdout",
     "output_type": "stream",
     "text": [
      "2\n"
     ]
    }
   ],
   "source": [
    "num_of_repeats = (12-10)\n",
    "print(num_of_repeats)\n"
   ]
  },
  {
   "cell_type": "code",
   "execution_count": null,
   "id": "4caaebb7-4867-484d-88df-1bf54bae996d",
   "metadata": {},
   "outputs": [],
   "source": []
  }
 ],
 "metadata": {
  "kernelspec": {
   "display_name": "Python 3 (ipykernel)",
   "language": "python",
   "name": "python3"
  },
  "language_info": {
   "codemirror_mode": {
    "name": "ipython",
    "version": 3
   },
   "file_extension": ".py",
   "mimetype": "text/x-python",
   "name": "python",
   "nbconvert_exporter": "python",
   "pygments_lexer": "ipython3",
   "version": "3.11.3"
  }
 },
 "nbformat": 4,
 "nbformat_minor": 5
}
