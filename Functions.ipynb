{
 "cells": [
  {
   "cell_type": "markdown",
   "id": "88f43806-e398-4c22-ae47-e4bdbfe25cec",
   "metadata": {},
   "source": [
    "#### Functions"
   ]
  },
  {
   "cell_type": "markdown",
   "id": "9169e33e-7ad1-4604-8159-3b7bbcb082ed",
   "metadata": {},
   "source": [
    "* A named block of code that are designed to do one specific job.\n",
    "* When you want to perform a particular task that you have defined in a function, you *call* the function responsible for it.\n",
    "* If you need to perform that task multiple times across your program, you dont need type the code all over again and again; you just call the function dedicated to handling that task.\n",
    "* Using functions makes your program easier to write, read, test and fix."
   ]
  },
  {
   "cell_type": "code",
   "execution_count": 2,
   "id": "422acc8a-b337-48d0-b721-3b6a2b63327e",
   "metadata": {
    "tags": []
   },
   "outputs": [
    {
     "name": "stdout",
     "output_type": "stream",
     "text": [
      "The Zen of Python, by Tim Peters\n",
      "\n",
      "Beautiful is better than ugly.\n",
      "Explicit is better than implicit.\n",
      "Simple is better than complex.\n",
      "Complex is better than complicated.\n",
      "Flat is better than nested.\n",
      "Sparse is better than dense.\n",
      "Readability counts.\n",
      "Special cases aren't special enough to break the rules.\n",
      "Although practicality beats purity.\n",
      "Errors should never pass silently.\n",
      "Unless explicitly silenced.\n",
      "In the face of ambiguity, refuse the temptation to guess.\n",
      "There should be one-- and preferably only one --obvious way to do it.\n",
      "Although that way may not be obvious at first unless you're Dutch.\n",
      "Now is better than never.\n",
      "Although never is often better than *right* now.\n",
      "If the implementation is hard to explain, it's a bad idea.\n",
      "If the implementation is easy to explain, it may be a good idea.\n",
      "Namespaces are one honking great idea -- let's do more of those!\n"
     ]
    }
   ],
   "source": [
    "# Zen of python\n",
    "import this"
   ]
  },
  {
   "cell_type": "markdown",
   "id": "bec5cdb9-7db7-475a-a7d9-ccdce71098f2",
   "metadata": {},
   "source": [
    "## Types of Functions\n",
    "\n",
    "1. `User-defined functions` - Functions that we create/define ourselves in our program and then call them wherever we want.\n",
    "2. `Built in functions` - Functions already defined in Python Libraries and we call them directly."
   ]
  },
  {
   "cell_type": "markdown",
   "id": "9f09c248-51ed-44c8-93e9-ab4b381199e1",
   "metadata": {},
   "source": [
    "## Defining a Function"
   ]
  },
  {
   "cell_type": "code",
   "execution_count": 9,
   "id": "bf40a2a4-5fd7-48fa-80bd-406f57b43bf9",
   "metadata": {
    "tags": []
   },
   "outputs": [
    {
     "name": "stdout",
     "output_type": "stream",
     "text": [
      "Hello\n"
     ]
    }
   ],
   "source": [
    "# example\n",
    "def greet_user():\n",
    "    \"\"\"Display a simple greeting\"\"\"\n",
    "    print(\"Hello\")\n",
    "greet_user()\n",
    "    "
   ]
  },
  {
   "cell_type": "code",
   "execution_count": 10,
   "id": "a7732eaf-6a60-4102-bdc5-1fe055a9179d",
   "metadata": {
    "tags": []
   },
   "outputs": [
    {
     "ename": "IndentationError",
     "evalue": "expected an indented block after function definition on line 1 (3427323772.py, line 2)",
     "output_type": "error",
     "traceback": [
      "\u001b[1;36m  Cell \u001b[1;32mIn[10], line 2\u001b[1;36m\u001b[0m\n\u001b[1;33m    * Using the keyword `def` to inform python that you are defining a function, refered to as *function definition*.\u001b[0m\n\u001b[1;37m    ^\u001b[0m\n\u001b[1;31mIndentationError\u001b[0m\u001b[1;31m:\u001b[0m expected an indented block after function definition on line 1\n"
     ]
    }
   ],
   "source": [
    "def greet_user():\n",
    "* Using the keyword `def` to inform python that you are defining a function, refered to as *function definition*.\n",
    "* Function definition tells python the name of the function, in the above, **greet_user**.\n",
    "* It also informs python, if applicable, what kind of information the function needs to perform its task/job, passed into the function using the `()`. In this case, the function needs no information to perform its tasks hence the empty brackets.\n",
    "* Any indented lines that follow the `:` make up the body of the function.\n",
    "\n",
    "`\"\"\"Display a simple greeting\"\"\"`\n",
    "\n",
    "* comment called *docstring*, that describes what the function does.\n",
    "* If a single short on line statement, we can use #.\n",
    "\n",
    "`print(\"Hello\")`\n",
    "* Function body line(s) indented inside the function.\n",
    "* Contains set of instructions on the code to be executed.\n",
    "\n",
    "`greet_user()`\n",
    "`greet_user()`\n",
    "* When you want to use a function, you call it. \n",
    "* A **function call** tells python to execute the indented code in the function body.\n",
    "* To call a function, write the function name, in our example, `greet_user`, followed by any necessary information in the `()`.\n"
   ]
  },
  {
   "cell_type": "code",
   "execution_count": null,
   "id": "34cb39ef-0c65-4f4d-9b28-f07f0f09148d",
   "metadata": {},
   "outputs": [],
   "source": [
    "# comment\n",
    "\"\"\"comment\"\"\"\n",
    "\n",
    "# This is a multiple line comment\n",
    "# The tripple quotes\n",
    "# used to create multiple line comments\n",
    "\n",
    "\"\"\"\n",
    "This is a multiple line comment\n",
    "The tripple quotes\n",
    "used to create multiple line comments\n",
    "\"\"\"\n",
    "Print(\"Antonny\")\n"
   ]
  },
  {
   "cell_type": "code",
   "execution_count": 8,
   "id": "e34e45ea-1259-46b1-bf9f-53b9d373812a",
   "metadata": {
    "tags": []
   },
   "outputs": [
    {
     "name": "stdout",
     "output_type": "stream",
     "text": [
      "7\n"
     ]
    }
   ],
   "source": [
    "# example 2\n",
    "def add_numbers(): # defining our function\n",
    "    \"\"\"Simple function to add numbers\"\"\"\n",
    "    a = 2\n",
    "    b = 5\n",
    "    sum = a + b\n",
    "    print(sum) \n",
    "add_numbers() # calling our function"
   ]
  },
  {
   "cell_type": "markdown",
   "id": "aac9a21d-3255-49a5-9c6e-692c5c0295fc",
   "metadata": {},
   "source": [
    "## Passing information to a function\n",
    "\n",
    "* The function greet_user can only tell the user *Hello!* but not greet them by name."
   ]
  },
  {
   "cell_type": "code",
   "execution_count": 11,
   "id": "516532f5-001e-4d2f-af3c-b0072b0e465e",
   "metadata": {
    "tags": []
   },
   "outputs": [
    {
     "name": "stdout",
     "output_type": "stream",
     "text": [
      "Hello Antonny!\n"
     ]
    }
   ],
   "source": [
    "def greet_user(username):\n",
    "    \"\"\"Display a simple greeting\"\"\"\n",
    "    print(f\"Hello {username}!\")\n",
    "greet_user('Antonny')"
   ]
  },
  {
   "cell_type": "markdown",
   "id": "04a2b4dc-e178-48ec-b85a-e79cbbef52d2",
   "metadata": {},
   "source": [
    "* By adding username in our function definition, we are allowing the function to accept any value for *username*.\n",
    "* Expectations: - provide a value for a *username* each time you call it."
   ]
  },
  {
   "cell_type": "code",
   "execution_count": 13,
   "id": "3fdfde8b-b6d8-4310-a33c-e38b368da54f",
   "metadata": {
    "tags": []
   },
   "outputs": [
    {
     "name": "stdout",
     "output_type": "stream",
     "text": [
      "Hello Melly!\n"
     ]
    }
   ],
   "source": [
    "# second function call\n",
    "greet_user('Melly') # changed username value"
   ]
  },
  {
   "cell_type": "markdown",
   "id": "d4829748-a573-48dc-96b5-bd2e83d1087a",
   "metadata": {},
   "source": [
    "* `Parameters` - in the example greet_user(username), *username* is the parameter.\n",
    "A piece of information the function needs to do its job/task.\n",
    "* `arguments` - the value *Antonny* and *Melly* are arguments.\n",
    "A piece of information that's passed from a function call to a function."
   ]
  },
  {
   "cell_type": "code",
   "execution_count": 14,
   "id": "ac378c59-d281-4f14-9ac8-6935cbbc2845",
   "metadata": {
    "tags": []
   },
   "outputs": [
    {
     "ename": "TypeError",
     "evalue": "greet_user() missing 1 required positional argument: 'username'",
     "output_type": "error",
     "traceback": [
      "\u001b[1;31m---------------------------------------------------------------------------\u001b[0m",
      "\u001b[1;31mTypeError\u001b[0m                                 Traceback (most recent call last)",
      "Cell \u001b[1;32mIn[14], line 2\u001b[0m\n\u001b[0;32m      1\u001b[0m \u001b[38;5;66;03m# third function call\u001b[39;00m\n\u001b[1;32m----> 2\u001b[0m greet_user()\n",
      "\u001b[1;31mTypeError\u001b[0m: greet_user() missing 1 required positional argument: 'username'"
     ]
    }
   ],
   "source": [
    "# third function call\n",
    "greet_user()"
   ]
  },
  {
   "cell_type": "markdown",
   "id": "dc6e8939-400a-4225-8d7d-7b9d609413fe",
   "metadata": {},
   "source": [
    "* We must pass in arguments during function calls to avoid errors."
   ]
  },
  {
   "cell_type": "code",
   "execution_count": 16,
   "id": "1f1475b9-45a0-4714-ab11-1856a6652257",
   "metadata": {
    "tags": []
   },
   "outputs": [
    {
     "name": "stdout",
     "output_type": "stream",
     "text": [
      "I have a cat.\n",
      "My cat's name is Missy.\n"
     ]
    }
   ],
   "source": [
    "def describe_pet(animal_type, pet_name):\n",
    "    \"\"\"Display information about a pet\"\"\"\n",
    "    print(f\"I have a {animal_type}.\")\n",
    "    print(f\"My {animal_type}'s name is {pet_name}.\")\n",
    "describe_pet('cat', 'Missy')"
   ]
  },
  {
   "cell_type": "markdown",
   "id": "fee4cbb0-389e-4c1f-8943-25a0714e4ef5",
   "metadata": {},
   "source": [
    "* When you call a function, Python must match each argument in the function call with a parameter in the function definition."
   ]
  },
  {
   "cell_type": "code",
   "execution_count": 17,
   "id": "94442270-fdb3-428d-8d82-1993d2767d2e",
   "metadata": {
    "tags": []
   },
   "outputs": [
    {
     "name": "stdout",
     "output_type": "stream",
     "text": [
      "I have a Scooby.\n",
      "My Scooby's name is Dog.\n"
     ]
    }
   ],
   "source": [
    "# the arguments match the order of the parameter\n",
    "describe_pet('Scooby', 'Dog') # this is wrong"
   ]
  },
  {
   "cell_type": "code",
   "execution_count": 19,
   "id": "d858b28a-0070-4a61-b479-671185936bce",
   "metadata": {
    "tags": []
   },
   "outputs": [
    {
     "name": "stdout",
     "output_type": "stream",
     "text": [
      "I have a Dog.\n",
      "My Dog's name is Scooby.\n"
     ]
    }
   ],
   "source": [
    "# alternatively use keyword arguments\n",
    "describe_pet(pet_name='Scooby', animal_type='Dog') # assign argument to parameters"
   ]
  },
  {
   "cell_type": "code",
   "execution_count": 25,
   "id": "8fb7647b-1b06-4653-a9fb-c00abc2a9d23",
   "metadata": {
    "tags": []
   },
   "outputs": [],
   "source": [
    "# default values\n",
    "def describe_pet(pet_name, animal_type = 'Dog'):\n",
    "    \"\"\"Display information about a pet\"\"\"\n",
    "    print(f\"I have a {animal_type}.\")\n",
    "    print(f\"My {animal_type}'s name is {pet_name}.\")"
   ]
  },
  {
   "cell_type": "code",
   "execution_count": null,
   "id": "d591a8d0-48c0-4318-bf1c-fb993a154060",
   "metadata": {},
   "outputs": [],
   "source": []
  },
  {
   "cell_type": "markdown",
   "id": "6b98d8c0-52cd-4bf5-be12-5f953b895987",
   "metadata": {},
   "source": [
    "* Defining a **default values** for the parameter `animal_type` and setting it as `Dog`.\n",
    "\n"
   ]
  },
  {
   "cell_type": "code",
   "execution_count": 26,
   "id": "7e32ad16-ad3c-43ef-8b68-52fa70fa1644",
   "metadata": {
    "tags": []
   },
   "outputs": [
    {
     "name": "stdout",
     "output_type": "stream",
     "text": [
      "I have a Dog.\n",
      "My Dog's name is Missy.\n"
     ]
    }
   ],
   "source": [
    "describe_pet('Missy')"
   ]
  },
  {
   "cell_type": "markdown",
   "id": "aba5e234-9292-4d54-9434-65647b3aa469",
   "metadata": {},
   "source": [
    "If an argument is not provided in the function call, python uses default value i.e`Dog` in the example above."
   ]
  },
  {
   "cell_type": "code",
   "execution_count": 35,
   "id": "0f08e4b4-659f-4d36-83c7-1f7ef3202407",
   "metadata": {
    "tags": []
   },
   "outputs": [
    {
     "name": "stdout",
     "output_type": "stream",
     "text": [
      "I have a cow.\n",
      "My cow's name is Hope.\n"
     ]
    }
   ],
   "source": [
    "describe_pet('Hope','cow')"
   ]
  },
  {
   "cell_type": "markdown",
   "id": "b7cfea40-9b55-48c3-af10-924323fac42d",
   "metadata": {},
   "source": [
    "If an argument for a parameter is provided in the function call, python uses the argument value provided and not the default value."
   ]
  },
  {
   "cell_type": "code",
   "execution_count": 29,
   "id": "2742c877-5b04-451b-be49-2d579a6e24c0",
   "metadata": {
    "tags": []
   },
   "outputs": [
    {
     "name": "stdout",
     "output_type": "stream",
     "text": [
      "I have a Goat.\n",
      "My Goat's name is Missy.\n"
     ]
    }
   ],
   "source": [
    "describe_pet('Missy', 'Goat')"
   ]
  },
  {
   "cell_type": "markdown",
   "id": "7354162b-5296-46b3-8a72-6023fcdddf5f",
   "metadata": {},
   "source": [
    "## Return Values\n",
    "* A function doesn't have to display its output directly."
   ]
  },
  {
   "cell_type": "code",
   "execution_count": 39,
   "id": "0c46a5bf-4e6d-42e6-b84b-1f2781558edc",
   "metadata": {
    "tags": []
   },
   "outputs": [],
   "source": [
    "# example\n",
    "def send_greeting(user):\n",
    "    \"\"\"Welcome users to a wedding\"\"\"\n",
    "    message = f\"Welcome {user} to Nyambane and Ida's Wedding\"\n",
    "send_greeting('Yusuf')"
   ]
  },
  {
   "cell_type": "code",
   "execution_count": 41,
   "id": "5445e12b-a9c9-4b4c-9270-2f5a8343bb19",
   "metadata": {
    "tags": []
   },
   "outputs": [
    {
     "data": {
      "text/plain": [
       "\"Welcome Eugene to Nyambane and Ida's Wedding\""
      ]
     },
     "execution_count": 41,
     "metadata": {},
     "output_type": "execute_result"
    }
   ],
   "source": [
    "# modify the example\n",
    "def send_greeting(user):\n",
    "    \"\"\"Welcome users to a wedding\"\"\"\n",
    "    message = f\"Welcome {user} to Nyambane and Ida's Wedding\"\n",
    "    \n",
    "    return message \n",
    "\n",
    "send_greeting('Eugene')\n"
   ]
  },
  {
   "cell_type": "markdown",
   "id": "68edd0db-b075-4bf9-8e7c-dce378c04edc",
   "metadata": {},
   "source": [
    "* The return statement takes a value or a set of values from inside a function and send it back to the line that called the function."
   ]
  },
  {
   "cell_type": "code",
   "execution_count": 45,
   "id": "3e2c442d-023f-44fa-8e8a-084f27a608a2",
   "metadata": {
    "tags": []
   },
   "outputs": [
    {
     "name": "stdout",
     "output_type": "stream",
     "text": [
      "Welcome Kocheli to Nyambane and Ida's Wedding\n"
     ]
    }
   ],
   "source": [
    "welcome_message = send_greeting('Kocheli')\n",
    "print(welcome_message)"
   ]
  },
  {
   "cell_type": "code",
   "execution_count": 64,
   "id": "20e5f95c-1c02-41db-9e05-30512d55bcee",
   "metadata": {
    "tags": []
   },
   "outputs": [
    {
     "name": "stdout",
     "output_type": "stream",
     "text": [
      "Enter maths operators\n"
     ]
    }
   ],
   "source": [
    "# example 2\n",
    "\n",
    "def calculator(a, b, operator):\n",
    "    \"\"\"Simple arithmetic Operations\"\"\"\n",
    "    if (operator == \"+\"):\n",
    "        sum = a + b\n",
    "        sum_out = f\"{a} + {b} = {sum}\"\n",
    "        \n",
    "        return sum_out\n",
    "    elif (operator == \"-\"):\n",
    "        diff = a - b\n",
    "        diff_out = f\"{a} - {b} = {diff}\"\n",
    "        \n",
    "        return diff_out\n",
    "    elif (operator == \"*\"):\n",
    "        times = a * b\n",
    "        times_out = f\" {a} * {b} = {times}\"\n",
    "        \n",
    "        return times_out\n",
    "    else:\n",
    "         print(\"Enter maths operators\")\n",
    "calculator(7,3,1)\n",
    "                                                                             "
   ]
  },
  {
   "cell_type": "code",
   "execution_count": 24,
   "id": "ec35b30f-3d1e-473f-bbb0-a5d9bd98bb3a",
   "metadata": {
    "tags": []
   },
   "outputs": [
    {
     "data": {
      "text/plain": [
       "(10, 4, 21)"
      ]
     },
     "execution_count": 24,
     "metadata": {},
     "output_type": "execute_result"
    }
   ],
   "source": [
    "def alt_calculator(a, b):\n",
    "    \"\"\"Alternative calculator\"\"\"\n",
    "    sum = a + b\n",
    "    diff = a - b\n",
    "    multiplication = a * b\n",
    "        \n",
    "    # return set of values\n",
    "    return sum, diff, multiplication\n",
    "alt_calculator(7, 3)"
   ]
  },
  {
   "cell_type": "code",
   "execution_count": 71,
   "id": "8182a64a-1217-4945-8729-dcc6f80b4825",
   "metadata": {
    "tags": []
   },
   "outputs": [],
   "source": [
    "# assigned variable to our function call\n",
    "def alt_calculator(a, b):\n",
    "    alt_calculator_output = alt_calculator(7,3)\n",
    "    print(type(alt_calculator_output))\n",
    "\n",
    "# Accessing individual values in the return set of values\n",
    "#using the index\n",
    "    difference = alt_calculator_output[1]\n",
    "    print(difference)\n",
    "\n",
    "    prod = alt_calculator_output[-1]\n",
    "    print(prod)"
   ]
  },
  {
   "cell_type": "code",
   "execution_count": 25,
   "id": "c77b8736-e0c1-446b-848a-d2290bc02a53",
   "metadata": {
    "tags": []
   },
   "outputs": [
    {
     "data": {
      "text/plain": [
       "(14, [1, 4, 9])"
      ]
     },
     "execution_count": 25,
     "metadata": {},
     "output_type": "execute_result"
    }
   ],
   "source": [
    "# sum of squares\n",
    "\n",
    "def sum_squares(numbers):\n",
    "    \"\"\"\n",
    "    parameters:\n",
    "        number - list of numbers\n",
    "    return:\n",
    "        sum of the squares of the list numbers\n",
    "    \"\"\"\n",
    "    #empty list to store square numbers\n",
    "    squared_numbers = []\n",
    "    # loop through the list numbers\n",
    "    for num in numbers:\n",
    "        squared_value = num ** 2\n",
    "        #add the squared_value to empty list\n",
    "        squared_numbers.append(squared_value)\n",
    "        \n",
    "    # calculate sum of squares\n",
    "    squares_sum = sum(squared_numbers)\n",
    "    \n",
    "    return squares_sum,squared_numbers\n",
    "sum_squares([1,2,3])\n"
   ]
  },
  {
   "cell_type": "markdown",
   "id": "636fe51f-4b03-490e-9a8f-79aa0e59d416",
   "metadata": {},
   "source": [
    "#### Built in Functions"
   ]
  },
  {
   "cell_type": "code",
   "execution_count": 71,
   "id": "1c54424e-439a-4ae3-9e27-c5e734f82c37",
   "metadata": {
    "tags": []
   },
   "outputs": [
    {
     "name": "stdout",
     "output_type": "stream",
     "text": [
      "Antonny\n"
     ]
    }
   ],
   "source": [
    "# example\n",
    "print(\"Antonny\")"
   ]
  },
  {
   "cell_type": "code",
   "execution_count": 75,
   "id": "ae478f0c-cd3c-489f-a0c4-36ed73f6d751",
   "metadata": {
    "tags": []
   },
   "outputs": [
    {
     "name": "stdin",
     "output_type": "stream",
     "text": [
      "Enter your name: \n",
      " Antonny\n"
     ]
    }
   ],
   "source": [
    "# Input takes in user input\n",
    "first_name = input(\"Enter your name: \\n\")"
   ]
  },
  {
   "cell_type": "code",
   "execution_count": 76,
   "id": "5499f76f-54dc-462f-b9e6-cf7e5224869a",
   "metadata": {
    "tags": []
   },
   "outputs": [
    {
     "name": "stdout",
     "output_type": "stream",
     "text": [
      "Antonny\n"
     ]
    }
   ],
   "source": [
    "print(first_name)"
   ]
  },
  {
   "cell_type": "code",
   "execution_count": 78,
   "id": "58441748-9188-41f3-b9b1-dcbae157b526",
   "metadata": {
    "tags": []
   },
   "outputs": [
    {
     "name": "stdin",
     "output_type": "stream",
     "text": [
      "Enter a number: \n",
      " Antonny\n"
     ]
    },
    {
     "data": {
      "text/plain": [
       "str"
      ]
     },
     "execution_count": 78,
     "metadata": {},
     "output_type": "execute_result"
    }
   ],
   "source": [
    "# what if we want an integer?\n",
    "number = input(\"Enter a number: \\n\")\n",
    "\n",
    "type(number)"
   ]
  },
  {
   "cell_type": "code",
   "execution_count": 83,
   "id": "7814f745-4381-49e1-aea3-a15c14f0e1ea",
   "metadata": {
    "tags": []
   },
   "outputs": [
    {
     "name": "stdin",
     "output_type": "stream",
     "text": [
      "Enter number (0-9): \n",
      " 5\n"
     ]
    },
    {
     "data": {
      "text/plain": [
       "int"
      ]
     },
     "execution_count": 83,
     "metadata": {},
     "output_type": "execute_result"
    }
   ],
   "source": [
    "# type hinting - specify the expected types of variables, function parameters, and return variables,\n",
    "#function parameters, and return values\n",
    "\n",
    "number_2 = int(input(\"Enter number (0-9): \\n\"))\n",
    "\n",
    "type(number_2)"
   ]
  },
  {
   "cell_type": "code",
   "execution_count": 21,
   "id": "f1245ecc-51fa-43dc-b884-0718c0ae4722",
   "metadata": {
    "tags": []
   },
   "outputs": [],
   "source": [
    "def print_odd() -> int:\n",
    "    num = int(input(f\"Enter a number:\"))\n",
    "    if num % 2:\n",
    "        return \"Even\"\n",
    "    else:\n",
    "        return \"Odd\""
   ]
  },
  {
   "cell_type": "code",
   "execution_count": 98,
   "id": "967e87c0-57f0-47a0-810f-71e954f5bc72",
   "metadata": {
    "tags": []
   },
   "outputs": [
    {
     "name": "stdin",
     "output_type": "stream",
     "text": [
      "Enter a number:  3\n"
     ]
    },
    {
     "name": "stdout",
     "output_type": "stream",
     "text": [
      "3 is odd.\n"
     ]
    }
   ],
   "source": [
    "def check_even_odd():\n",
    "    try:\n",
    "        num = int(input(\"Enter a number: \"))\n",
    "        \n",
    "        if num % 2 == 0:\n",
    "            print(f\"{num} is even.\")\n",
    "        else:\n",
    "            print(f\"{num} is odd.\")\n",
    "    except ValueError:\n",
    "        print(\"Invalid input. Please enter a valid number.\")\n",
    "\n",
    "# Call the function\n",
    "check_even_odd()"
   ]
  },
  {
   "cell_type": "code",
   "execution_count": 99,
   "id": "2dc6c73b-6ab3-4280-8dfc-8f57fa6dbb5d",
   "metadata": {
    "tags": []
   },
   "outputs": [
    {
     "name": "stdin",
     "output_type": "stream",
     "text": [
      "Enter a number:  9\n"
     ]
    },
    {
     "name": "stdout",
     "output_type": "stream",
     "text": [
      "The number is Odd.\n"
     ]
    }
   ],
   "source": [
    "def even_or_odd(number):\n",
    "    if number % 2 == 0:\n",
    "        return \"Even\"\n",
    "    else:\n",
    "        return \"Odd\"\n",
    "\n",
    "\n",
    "num = int(input(\"Enter a number: \"))\n",
    "result = even_or_odd(num)\n",
    "print(f\"The number is {result}.\")"
   ]
  },
  {
   "cell_type": "code",
   "execution_count": 36,
   "id": "04d6e07e-26ea-43a2-82d7-204f5851bcc9",
   "metadata": {
    "tags": []
   },
   "outputs": [],
   "source": [
    "# example\n",
    "def add_numbers(a,b):\n",
    "    \"\"\"sums two numbers\"\"\"\n",
    "    sum = a + b\n",
    "    output = f\"{a} + {b} = {sum}\"\n",
    "    \n",
    "add_numbers(9, 6)"
   ]
  },
  {
   "cell_type": "markdown",
   "id": "8722bb37-6793-412a-b697-19befabdce28",
   "metadata": {
    "tags": []
   },
   "source": [
    "* Functions process data and then return a value or set of values, called return values."
   ]
  },
  {
   "cell_type": "code",
   "execution_count": 37,
   "id": "000033b4-e96d-419c-bc50-b1919e27cf93",
   "metadata": {
    "tags": []
   },
   "outputs": [
    {
     "data": {
      "text/plain": [
       "('9 + 6 = 15', 15)"
      ]
     },
     "execution_count": 37,
     "metadata": {},
     "output_type": "execute_result"
    }
   ],
   "source": [
    "# modify example above\n",
    "def add_numbers(a, b):\n",
    "    \"\"\"Sums two numbers\"\"\"\n",
    "    sum = a + b\n",
    "    output = f\"{a} + {b} = {sum}\"\n",
    "    \n",
    "    return output, sum\n",
    "add_numbers(9, 6)"
   ]
  },
  {
   "cell_type": "code",
   "execution_count": 38,
   "id": "1f299ca1-9252-4e11-ac33-416e9be43ffa",
   "metadata": {
    "tags": []
   },
   "outputs": [
    {
     "data": {
      "text/plain": [
       "15"
      ]
     },
     "execution_count": 38,
     "metadata": {},
     "output_type": "execute_result"
    }
   ],
   "source": [
    "def add_numbers(a, b):\n",
    "    \"\"\"Sums two numbers\"\"\"\n",
    "    sum = a + b\n",
    "    output = f\"{a} + {b} = {sum}\"\n",
    "    \n",
    "    return sum\n",
    "add_numbers(9, 6)"
   ]
  },
  {
   "cell_type": "code",
   "execution_count": 8,
   "id": "71c0d929-8800-4c14-a095-c1f3c817caa9",
   "metadata": {
    "tags": []
   },
   "outputs": [
    {
     "name": "stdin",
     "output_type": "stream",
     "text": [
      "Enter English scores 20\n",
      "Enter Kiswahili scores 30\n",
      "Enter Math scores 40\n",
      "Enter Science scores 50\n",
      "Enter GHC scores 60\n"
     ]
    },
    {
     "data": {
      "text/plain": [
       "['20', '30', '40', '50', '60']"
      ]
     },
     "execution_count": 8,
     "metadata": {},
     "output_type": "execute_result"
    }
   ],
   "source": [
    "# Get the student scores\n",
    "\n",
    "def get_scores():\n",
    "    \"\"\"Get user scores for different subjects\"\"\"\n",
    "    student_scores = []\n",
    "    subjects = [\"English\", \"Kiswahili\", \"Math\", \"Science\", \"GHC\"]\n",
    "\n",
    "    for subject in subjects:\n",
    "        scores = input(f\"Enter {subject} scores\")\n",
    "        student_scores.append(scores)\n",
    "        \n",
    "    return student_scores\n",
    "get_scores()"
   ]
  },
  {
   "cell_type": "code",
   "execution_count": 9,
   "id": "23c30a1c-5e1c-4f52-816d-d60d07a71d29",
   "metadata": {
    "tags": []
   },
   "outputs": [
    {
     "name": "stdin",
     "output_type": "stream",
     "text": [
      "Enter English scores 20\n",
      "Enter Kiswahili scores 30\n",
      "Enter Math scores 40\n",
      "Enter Science scores 50\n",
      "Enter GHC scores 60\n"
     ]
    },
    {
     "data": {
      "text/plain": [
       "[20, 30, 40, 50, 60]"
      ]
     },
     "execution_count": 9,
     "metadata": {},
     "output_type": "execute_result"
    }
   ],
   "source": [
    "def get_scores():\n",
    "    \"\"\"Get user scores for different subjects\"\"\"\n",
    "    student_scores = []\n",
    "    subjects = [\"English\", \"Kiswahili\", \"Math\", \"Science\", \"GHC\"]\n",
    "\n",
    "    for subject in subjects:\n",
    "        scores = int(input(f\"Enter {subject} scores\"))\n",
    "        student_scores.append(scores)\n",
    "        \n",
    "    return student_scores\n",
    "get_scores()"
   ]
  },
  {
   "cell_type": "code",
   "execution_count": 14,
   "id": "1f4f940d-a75f-42f3-9fb0-851bdff747b2",
   "metadata": {
    "tags": []
   },
   "outputs": [
    {
     "name": "stdin",
     "output_type": "stream",
     "text": [
      "Enter English scores 20\n",
      "Enter Kiswahili scores 30\n",
      "Enter Math scores 40\n",
      "Enter Science scores 50\n",
      "Enter GHC scores 60\n"
     ]
    },
    {
     "data": {
      "text/plain": [
       "['E', 'E', 'D', 'C', 'B']"
      ]
     },
     "execution_count": 14,
     "metadata": {},
     "output_type": "execute_result"
    }
   ],
   "source": [
    "def grade_student():\n",
    "    \"\"\"\n",
    "    Get student name\n",
    "    Get student scores\n",
    "    Grade Student scores\n",
    "    sum of student scores\n",
    "    return:\n",
    "        student name, student scores, student grades, sum\n",
    "    \n",
    "    \"\"\"\n",
    "    student_name = get_student_name\n",
    "    student_scores = get_scores()\n",
    "    student_grades = []\n",
    "    # loop through the grades\n",
    "    for score in student_scores:\n",
    "        if (score >= 70) and (score <= 100):\n",
    "            grade = \"A\"\n",
    "            student_grades.append(grade)\n",
    "        elif (score <= 69) and (score >= 60):\n",
    "            grade = \"B\"\n",
    "            student_grades.append(grade)\n",
    "        elif (score <= 59) and (score >= 50):\n",
    "            grade = \"C\"\n",
    "            student_grades.append(grade)\n",
    "        elif (score <= 49) and (score >= 40):\n",
    "            grade = \"D\"\n",
    "            student_grades.append(grade)\n",
    "        elif (score <= 39) and (score >= 0):\n",
    "            grade = \"E\"\n",
    "            student_grades.append(grade)\n",
    "            \n",
    "        else:\n",
    "            print(\"Invalid grade\")\n",
    "            student_grades.append(None)\n",
    "    total = sum(student_scores)\n",
    "    \n",
    "    return student_grades\n",
    "grade_student()"
   ]
  },
  {
   "cell_type": "code",
   "execution_count": 15,
   "id": "0c702496-7257-4212-abc6-cd4b0962c551",
   "metadata": {
    "tags": []
   },
   "outputs": [
    {
     "name": "stdin",
     "output_type": "stream",
     "text": [
      "student name e.g John Joe \n",
      " Leon Melly\n"
     ]
    },
    {
     "data": {
      "text/plain": [
       "'Leon Melly'"
      ]
     },
     "execution_count": 15,
     "metadata": {},
     "output_type": "execute_result"
    }
   ],
   "source": [
    "#Get student name\n",
    "\n",
    "def get_student_name():\n",
    "    name = input (\"student name e.g John Joe \\n\")\n",
    "    return name\n",
    "\n",
    "get_student_name()\n",
    "    "
   ]
  },
  {
   "cell_type": "code",
   "execution_count": 17,
   "id": "c09be758-d342-4c27-8196-b6fc349f0366",
   "metadata": {
    "tags": []
   },
   "outputs": [
    {
     "name": "stdin",
     "output_type": "stream",
     "text": [
      "Enter English scores 20\n",
      "Enter Kiswahili scores 30\n",
      "Enter Math scores 40\n",
      "Enter Science scores 50\n",
      "Enter GHC scores 60\n"
     ]
    },
    {
     "data": {
      "text/plain": [
       "200"
      ]
     },
     "execution_count": 17,
     "metadata": {},
     "output_type": "execute_result"
    }
   ],
   "source": [
    "def student_total():\n",
    "    \"\"\"Get Total scores\n",
    "    Returns:\n",
    "        Total student scores out of 500\n",
    "    \"\"\"\n",
    "    student_scores = get_scores()\n",
    "    total = sum(student_scores)\n",
    "    \n",
    "    return total\n",
    "student_total()"
   ]
  },
  {
   "cell_type": "code",
   "execution_count": 19,
   "id": "c162ad7e-e506-47e7-8f71-68dcc5b84ed7",
   "metadata": {
    "tags": []
   },
   "outputs": [
    {
     "name": "stdin",
     "output_type": "stream",
     "text": [
      "student name e.g John Joe \n",
      " Leon Melly\n",
      "Enter English scores 20\n",
      "Enter Kiswahili scores 30\n",
      "Enter Math scores 40\n",
      "Enter Science scores 50\n",
      "Enter GHC scores 60\n",
      "Enter English scores 20\n",
      "Enter Kiswahili scores 30\n",
      "Enter Math scores 40\n",
      "Enter Science scores 50\n",
      "Enter GHC scores 60\n",
      "Enter English scores 20\n",
      "Enter Kiswahili scores 30\n",
      "Enter Math scores 40\n",
      "Enter Science scores 50\n",
      "Enter GHC scores 60\n"
     ]
    },
    {
     "data": {
      "text/plain": [
       "('Leon Melly', [20, 30, 40, 50, 60], ['E', 'E', 'D', 'C', 'B'], 200)"
      ]
     },
     "execution_count": 19,
     "metadata": {},
     "output_type": "execute_result"
    }
   ],
   "source": [
    "# wrapping everything (name, scores, grade and total)\n",
    "\n",
    "def student_performance():\n",
    "    student_name = get_student_name()\n",
    "    student_scores = get_scores()\n",
    "    student_grades = grade_student()\n",
    "    total_scores = student_total()\n",
    "    \n",
    "    return student_name,student_scores, student_grades, total_scores\n",
    "student_performance()"
   ]
  },
  {
   "cell_type": "code",
   "execution_count": 23,
   "id": "dd5583eb-66d9-4536-adc0-6d7dc91947f8",
   "metadata": {
    "tags": []
   },
   "outputs": [
    {
     "name": "stdin",
     "output_type": "stream",
     "text": [
      "student name e.g John Joe \n",
      " Leon Melly\n",
      "Enter English scores 20\n",
      "Enter Kiswahili scores 30\n",
      "Enter Math scores 40\n",
      "Enter Science scores 50\n",
      "Enter GHC scores 60\n",
      "Enter English scores 20\n",
      "Enter Kiswahili scores 30\n",
      "Enter Math scores 40\n",
      "Enter Science scores 50\n",
      "Enter GHC scores 60\n",
      "Enter English scores 20\n",
      "Enter Kiswahili scores 30\n",
      "Enter Math scores 40\n",
      "Enter Science scores 50\n",
      "Enter GHC scores 60\n",
      "student name e.g John Joe \n",
      " Kip Melly\n",
      "Enter English scores 30\n",
      "Enter Kiswahili scores 40\n",
      "Enter Math scores 50\n",
      "Enter Science scores 60\n",
      "Enter GHC scores 70\n",
      "Enter English scores 30\n",
      "Enter Kiswahili scores 40\n",
      "Enter Math scores 50\n",
      "Enter Science scores 60\n",
      "Enter GHC scores 70\n",
      "Enter English scores 30\n",
      "Enter Kiswahili scores 40\n",
      "Enter Math scores 50\n",
      "Enter Science scores 60\n",
      "Enter GHC scores 70\n"
     ]
    },
    {
     "name": "stdout",
     "output_type": "stream",
     "text": [
      "{'Name': ['Leon Melly', 'Kip Melly'], 'English': [20, 30], 'English_grade': ['E', 'E'], 'Kiswahili': [30, 40], 'Kiswahili_grade': ['E', 'D'], 'Math': [40, 50], 'Math_grade': ['D', 'C'], 'Science': [50, 60], 'Science_grade': ['C', 'B'], 'GHC': [60, 70], 'GHC_grade': ['B', 'A'], 'Total': [200, 250]}\n"
     ]
    }
   ],
   "source": [
    "# adding more students performance\n",
    "\n",
    "student_number = 0\n",
    "class_performance = {\n",
    "    \"Name\":[],\n",
    "    \"English\": [],\n",
    "    \"English_grade\":[],\n",
    "    \"Kiswahili\": [],\n",
    "    \"Kiswahili_grade\":[],\n",
    "    \"Math\": [],\n",
    "    \"Math_grade\":[],\n",
    "    \"Science\": [],\n",
    "    \"Science_grade\":[],\n",
    "    \"GHC\": [],\n",
    "    \"GHC_grade\":[],\n",
    "    \"Total\": []\n",
    "}\n",
    "\n",
    "while (student_number < 2):\n",
    "    individual_student = student_performance()\n",
    "    Individual_student = list(individual_student)\n",
    "    class_performance [\"Name\"].append(Individual_student[0])\n",
    "    class_performance [\"English\"].append(Individual_student[1][0])\n",
    "    class_performance [\"English_grade\"].append(Individual_student[2][0])\n",
    "    class_performance [\"Kiswahili\"].append(Individual_student[1][1])\n",
    "    class_performance [\"Kiswahili_grade\"].append(Individual_student[2][1])\n",
    "    class_performance [\"Math\"].append(Individual_student[1][2]) \n",
    "    class_performance [\"Math_grade\"].append(Individual_student[2][2])\n",
    "    class_performance [\"Science\"].append(Individual_student[1][3])\n",
    "    class_performance [\"Science_grade\"].append(Individual_student[2][3])\n",
    "    class_performance [\"GHC\"].append(Individual_student[1][4])\n",
    "    class_performance [\"GHC_grade\"].append(Individual_student[2][4])\n",
    "    class_performance [\"Total\"].append(Individual_student[3])\n",
    "        \n",
    "    student_number += 1\n",
    "print(class_performance)"
   ]
  },
  {
   "cell_type": "code",
   "execution_count": 26,
   "id": "44f32662-7dcf-4b27-ae85-ee31d5949d74",
   "metadata": {
    "tags": []
   },
   "outputs": [
    {
     "data": {
      "text/html": [
       "<div>\n",
       "<style scoped>\n",
       "    .dataframe tbody tr th:only-of-type {\n",
       "        vertical-align: middle;\n",
       "    }\n",
       "\n",
       "    .dataframe tbody tr th {\n",
       "        vertical-align: top;\n",
       "    }\n",
       "\n",
       "    .dataframe thead th {\n",
       "        text-align: right;\n",
       "    }\n",
       "</style>\n",
       "<table border=\"1\" class=\"dataframe\">\n",
       "  <thead>\n",
       "    <tr style=\"text-align: right;\">\n",
       "      <th></th>\n",
       "      <th>Name</th>\n",
       "      <th>English</th>\n",
       "      <th>English_grade</th>\n",
       "      <th>Kiswahili</th>\n",
       "      <th>Kiswahili_grade</th>\n",
       "      <th>Math</th>\n",
       "      <th>Math_grade</th>\n",
       "      <th>Science</th>\n",
       "      <th>Science_grade</th>\n",
       "      <th>GHC</th>\n",
       "      <th>GHC_grade</th>\n",
       "      <th>Total</th>\n",
       "    </tr>\n",
       "  </thead>\n",
       "  <tbody>\n",
       "    <tr>\n",
       "      <th>0</th>\n",
       "      <td>Leon Melly</td>\n",
       "      <td>20</td>\n",
       "      <td>E</td>\n",
       "      <td>30</td>\n",
       "      <td>E</td>\n",
       "      <td>40</td>\n",
       "      <td>D</td>\n",
       "      <td>50</td>\n",
       "      <td>C</td>\n",
       "      <td>60</td>\n",
       "      <td>B</td>\n",
       "      <td>200</td>\n",
       "    </tr>\n",
       "    <tr>\n",
       "      <th>1</th>\n",
       "      <td>Kip Melly</td>\n",
       "      <td>30</td>\n",
       "      <td>E</td>\n",
       "      <td>40</td>\n",
       "      <td>D</td>\n",
       "      <td>50</td>\n",
       "      <td>C</td>\n",
       "      <td>60</td>\n",
       "      <td>B</td>\n",
       "      <td>70</td>\n",
       "      <td>A</td>\n",
       "      <td>250</td>\n",
       "    </tr>\n",
       "  </tbody>\n",
       "</table>\n",
       "</div>"
      ],
      "text/plain": [
       "         Name  English English_grade  Kiswahili Kiswahili_grade  Math  \\\n",
       "0  Leon Melly       20             E         30               E    40   \n",
       "1   Kip Melly       30             E         40               D    50   \n",
       "\n",
       "  Math_grade  Science Science_grade  GHC GHC_grade  Total  \n",
       "0          D       50             C   60         B    200  \n",
       "1          C       60             B   70         A    250  "
      ]
     },
     "execution_count": 26,
     "metadata": {},
     "output_type": "execute_result"
    }
   ],
   "source": [
    "import pandas as pd\n",
    "df = pd.DataFrame(class_performance)\n",
    "df"
   ]
  },
  {
   "cell_type": "code",
   "execution_count": null,
   "id": "555da810-245c-4149-99ce-1738b3b65110",
   "metadata": {},
   "outputs": [],
   "source": []
  }
 ],
 "metadata": {
  "kernelspec": {
   "display_name": "Python 3 (ipykernel)",
   "language": "python",
   "name": "python3"
  },
  "language_info": {
   "codemirror_mode": {
    "name": "ipython",
    "version": 3
   },
   "file_extension": ".py",
   "mimetype": "text/x-python",
   "name": "python",
   "nbconvert_exporter": "python",
   "pygments_lexer": "ipython3",
   "version": "3.11.3"
  }
 },
 "nbformat": 4,
 "nbformat_minor": 5
}
