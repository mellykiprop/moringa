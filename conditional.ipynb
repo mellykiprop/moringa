{
 "cells": [
  {
   "cell_type": "code",
   "execution_count": 15,
   "id": "00bcf594-e860-4d1e-be57-6c0414a9498a",
   "metadata": {
    "tags": []
   },
   "outputs": [],
   "source": [
    "# leave days\n",
    "leave_days = 0"
   ]
  },
  {
   "cell_type": "code",
   "execution_count": 16,
   "id": "4d2f1006-b51e-404c-9170-8d4d78017c19",
   "metadata": {
    "tags": []
   },
   "outputs": [
    {
     "name": "stdout",
     "output_type": "stream",
     "text": [
      "1\n"
     ]
    }
   ],
   "source": [
    "leave_days = leave_days + 1\n",
    "print(leave_days)"
   ]
  },
  {
   "cell_type": "code",
   "execution_count": 17,
   "id": "4d337263-3c71-4262-a95d-84707b643dc4",
   "metadata": {
    "tags": []
   },
   "outputs": [
    {
     "name": "stdout",
     "output_type": "stream",
     "text": [
      "2\n"
     ]
    }
   ],
   "source": [
    "#incrementing variable by value\n",
    "leave_days +=1\n",
    "print(leave_days)"
   ]
  },
  {
   "cell_type": "code",
   "execution_count": 18,
   "id": "428f5444-d990-49b4-bdab-f4ac955bb4ec",
   "metadata": {
    "tags": []
   },
   "outputs": [
    {
     "name": "stdout",
     "output_type": "stream",
     "text": [
      "1\n"
     ]
    }
   ],
   "source": [
    "# decrementing variable by value\n",
    "leave_days -=1 # leave_days = leave_day - 1\n",
    "print(leave_days)"
   ]
  },
  {
   "cell_type": "code",
   "execution_count": 25,
   "id": "c5dad131-5703-4899-96f3-f83dc3b125fc",
   "metadata": {
    "tags": []
   },
   "outputs": [
    {
     "name": "stdout",
     "output_type": "stream",
     "text": [
      "20\n"
     ]
    }
   ],
   "source": [
    "leave_days = 21\n",
    "# use bbolean\n",
    "take_leave = True\n",
    "\n",
    "#decide to take leave\n",
    "if take_leave: # condition\n",
    "    \n",
    "    #if condition is met\n",
    "    leave_days -=1\n",
    "    print(leave_days)"
   ]
  },
  {
   "cell_type": "code",
   "execution_count": 26,
   "id": "e07b2d67-3b5e-4d5a-ab26-bcda03203622",
   "metadata": {
    "tags": []
   },
   "outputs": [
    {
     "name": "stdout",
     "output_type": "stream",
     "text": [
      "you can have id\n"
     ]
    }
   ],
   "source": [
    "age = 20\n",
    "if age > 18: #condition\n",
    "    print(\"you can have id\")"
   ]
  },
  {
   "cell_type": "code",
   "execution_count": 27,
   "id": "98fad423-d34c-45af-a71c-c804e4f523f1",
   "metadata": {
    "tags": []
   },
   "outputs": [
    {
     "data": {
      "text/plain": [
       "True"
      ]
     },
     "execution_count": 27,
     "metadata": {},
     "output_type": "execute_result"
    }
   ],
   "source": [
    "# condition\n",
    "age > 18"
   ]
  },
  {
   "cell_type": "code",
   "execution_count": 32,
   "id": "823af16d-e1c0-4520-a17f-c61a7e52db04",
   "metadata": {
    "tags": []
   },
   "outputs": [
    {
     "name": "stdout",
     "output_type": "stream",
     "text": [
      "fail\n"
     ]
    }
   ],
   "source": [
    "#if else statement to determine if students have passed or failed\n",
    "score = 45\n",
    "\n",
    "# because the score is above 40, then only the if statement will be executed\n",
    "\n",
    "# what happens when student score below 40\n",
    "\n",
    "score = 30\n",
    "if score > 40:\n",
    "    outcome = \"pass\" #code to execute if statement is True\n",
    "    print(outcome) #code to execute when if statement is True\n",
    "# when the student has scored 40 or below\n",
    "else:\n",
    "    outcome = \"fail\"\n",
    "    print(outcome)\n",
    " "
   ]
  },
  {
   "cell_type": "code",
   "execution_count": null,
   "id": "9383697a-ad19-4a83-a760-c883897ee8fa",
   "metadata": {},
   "outputs": [],
   "source": [
    "## And\n",
    "* Used to join two or more conditions\n",
    "* Example students who have scored abbove 40 but below 50 are said to have attained grade D\n",
    "\n",
    "* ** -'''for and , and allthe conditions have to be True for the condition to be True"
   ]
  },
  {
   "cell_type": "code",
   "execution_count": 33,
   "id": "515e8595-76fa-4dff-a713-cdeaeda048b2",
   "metadata": {
    "tags": []
   },
   "outputs": [
    {
     "name": "stdout",
     "output_type": "stream",
     "text": [
      "Boy\n"
     ]
    }
   ],
   "source": [
    "age = 12\n",
    "gender = 'male'\n",
    "if age < 18 and gender == 'male': # both the two conditions have to be true\n",
    "    print ('Boy')"
   ]
  },
  {
   "cell_type": "code",
   "execution_count": 45,
   "id": "7ed8d2ec-a33f-42b5-aa7e-8dcaaea2553a",
   "metadata": {
    "tags": []
   },
   "outputs": [],
   "source": [
    "# if one condition is met\n",
    "# the statement is False\n",
    "\n",
    "age = 19\n",
    "\n",
    "gender = 'male'\n",
    "if age < 18 and gender == 'male': # both the two conditions have to be True\n",
    "    print ('Boy')"
   ]
  },
  {
   "cell_type": "markdown",
   "id": "2820dc44-f9e1-4ef5-8de6-ca278af2a89f",
   "metadata": {},
   "source": [
    "Summary \n",
    "\n",
    "|Condition 1| Condition 2| Final Condition|\n",
    "|:---------:|:----------:|:--------------:|\n",
    "|True|True|True|\n",
    "|True|False|False|\n",
    "|False|True|False|\n",
    "|False|False|False|"
   ]
  },
  {
   "cell_type": "markdown",
   "id": "fb98b786-b065-4c0f-a889-3622bfa58bba",
   "metadata": {},
   "source": [
    "above 40 >> D\n",
    "above 50 >> C\n",
    "above 60 >> B\n",
    "above 70>>> A\n",
    "below 40 >> Fail"
   ]
  },
  {
   "cell_type": "markdown",
   "id": "8881a788-abfe-479e-a529-e4e906d0820a",
   "metadata": {
    "tags": []
   },
   "source": [
    "# grades\n",
    "\n",
    "grade = 67\n",
    "\n",
    "if grade >= 40 and (grade < 50): #score between 40 and 49\n",
    "    grade = 'D'\n",
    "    print(grade)\n",
    "    \n",
    " # elif statement (else if)\n",
    " elif (grade >= 50) and (grade < 60): # score between 50 and 59\n",
    "    grade = 'C'\n",
    "    print(grade)\n",
    "    \n",
    "  elif (grade >= 60) and (grade < 70): # score between 60 and 69\n",
    "    grade = 'B'\n",
    "    print(grade)\n",
    "    \n",
    "  elif (grade >= 70): # score above 70\n",
    "    grade = 'A'\n",
    "    print(grade)\n",
    "    \n",
    "    \n",
    "     \n"
   ]
  },
  {
   "cell_type": "markdown",
   "id": "5a556dd7-e6e7-49a8-9564-9425935c6266",
   "metadata": {},
   "source": [
    "## OR\n",
    "\n",
    "* just like and is used to join conditions\n",
    "* Atleast one condition shoulb be True\n",
    "\n"
   ]
  },
  {
   "cell_type": "code",
   "execution_count": 57,
   "id": "ae619884-3a09-4adf-b2d9-99e7c9800dbb",
   "metadata": {
    "tags": []
   },
   "outputs": [
    {
     "name": "stdout",
     "output_type": "stream",
     "text": [
      "you can go into the bouncing castle\n"
     ]
    }
   ],
   "source": [
    "height = 45\n",
    "\n",
    "weight = 20\n",
    "\n",
    "if (height > 40) or (weight > 50): #condition is true if either condition is met\n",
    "    print(\"you can go into the bouncing castle\")\n",
    "    \n",
    "    # weight has made the criteria\n",
    "    # height has not met the criteria"
   ]
  },
  {
   "cell_type": "markdown",
   "id": "8d36d9dc-9406-4d60-aa6d-98f04de091cd",
   "metadata": {
    "tags": []
   },
   "source": [
    "Summary \n",
    "\n",
    "|Condition 1| Condition 2| Final Condition|\n",
    "|:---------:|:----------:|:--------------:|\n",
    "|True|True|True|\n",
    "|True|False|False|\n",
    "|False|True|False|\n",
    "|False|False|False|"
   ]
  },
  {
   "cell_type": "markdown",
   "id": "ebbaec3a-858d-4834-9cd4-4203622a6112",
   "metadata": {},
   "source": []
  },
  {
   "cell_type": "code",
   "execution_count": 72,
   "id": "d4479301-7343-490e-8482-c2ce669e2483",
   "metadata": {
    "tags": []
   },
   "outputs": [
    {
     "ename": "IndentationError",
     "evalue": "unindent does not match any outer indentation level (<tokenize>, line 8)",
     "output_type": "error",
     "traceback": [
      "\u001b[1;36m  File \u001b[1;32m<tokenize>:8\u001b[1;36m\u001b[0m\n\u001b[1;33m    else: # else statement will be executed if both the conditions above are False\u001b[0m\n\u001b[1;37m    ^\u001b[0m\n\u001b[1;31mIndentationError\u001b[0m\u001b[1;31m:\u001b[0m unindent does not match any outer indentation level\n"
     ]
    }
   ],
   "source": [
    "height = 50\n",
    "\n",
    "weight = 40\n",
    "\n",
    "if (height > 40) or (weight > 50): #condition is True if either condition is met\n",
    "    print(\"you can go into the bouncing castle\")\n",
    "    \n",
    " else: # else statement will be executed if both the conditions above are False\n",
    "    print(\"you will destroy the bouncing castle\")"
   ]
  },
  {
   "cell_type": "code",
   "execution_count": null,
   "id": "cdae0030-1675-4c12-bba3-62715a8f08d2",
   "metadata": {},
   "outputs": [],
   "source": []
  }
 ],
 "metadata": {
  "kernelspec": {
   "display_name": "Python 3 (ipykernel)",
   "language": "python",
   "name": "python3"
  },
  "language_info": {
   "codemirror_mode": {
    "name": "ipython",
    "version": 3
   },
   "file_extension": ".py",
   "mimetype": "text/x-python",
   "name": "python",
   "nbconvert_exporter": "python",
   "pygments_lexer": "ipython3",
   "version": "3.11.3"
  }
 },
 "nbformat": 4,
 "nbformat_minor": 5
}
