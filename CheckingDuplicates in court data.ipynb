{
 "cells": [
  {
   "cell_type": "markdown",
   "id": "9cc46837-210e-45ec-9661-507b975119f6",
   "metadata": {},
   "source": [
    "# Checking Duplicates in Court Data"
   ]
  },
  {
   "cell_type": "code",
   "execution_count": 4,
   "id": "0896bb9f-ec92-4bbb-81aa-660febee0e05",
   "metadata": {
    "tags": []
   },
   "outputs": [],
   "source": [
    "import pandas as pd\n",
    "import numpy as np\n",
    "\n",
    "import seaborn as sns\n",
    "import matplotlib.pyplot as plt"
   ]
  },
  {
   "cell_type": "markdown",
   "id": "3025274a-92d6-4a2a-97dc-5e36dbcda6c9",
   "metadata": {},
   "source": [
    "## Load the data"
   ]
  },
  {
   "cell_type": "code",
   "execution_count": 5,
   "id": "754d704b-405b-4eb4-b284-5a17e426a0c1",
   "metadata": {
    "tags": []
   },
   "outputs": [
    {
     "name": "stderr",
     "output_type": "stream",
     "text": [
      "C:\\Users\\Mercy Chemutai\\AppData\\Local\\Temp\\ipykernel_14152\\740081827.py:2: DtypeWarning: Columns (6,14,16,17) have mixed types. Specify dtype option on import or set low_memory=False.\n",
      "  data = pd.read_csv(\"Data Analysis/Court_data.csv\", index_col = 0)\n"
     ]
    }
   ],
   "source": [
    "# index_col = 0 >> specify the first column as indexs\n",
    "data = pd.read_csv(\"Data Analysis/Court_data.csv\", index_col = 0) "
   ]
  },
  {
   "cell_type": "markdown",
   "id": "42427d87-810e-4927-80a0-b8f8df0c23cf",
   "metadata": {},
   "source": [
    "### Understanding the Data"
   ]
  },
  {
   "cell_type": "code",
   "execution_count": 6,
   "id": "96e0983e-90bc-4191-bdab-2c4e1e0425e9",
   "metadata": {
    "tags": []
   },
   "outputs": [
    {
     "name": "stdout",
     "output_type": "stream",
     "text": [
      "<class 'pandas.core.frame.DataFrame'>\n",
      "Index: 357229 entries, 363052 High Court to 63035 High Court\n",
      "Data columns (total 27 columns):\n",
      " #   Column          Non-Null Count   Dtype  \n",
      "---  ------          --------------   -----  \n",
      " 0   date_dd         357228 non-null  float64\n",
      " 1   date_mon        357229 non-null  object \n",
      " 2   date_yyyy       357228 non-null  float64\n",
      " 3   caseid_type     357229 non-null  object \n",
      " 4   caseid_no       357225 non-null  object \n",
      " 5   filed_dd        356744 non-null  object \n",
      " 6   filed_mon       356748 non-null  object \n",
      " 7   filed_yyyy      357224 non-null  float64\n",
      " 8   case_type       357228 non-null  object \n",
      " 9   judge           355142 non-null  object \n",
      " 10  comingfor       357229 non-null  object \n",
      " 11  outcome         357229 non-null  object \n",
      " 12  reason_adj      19303 non-null   object \n",
      " 13  next_dd         264858 non-null  object \n",
      " 14  next_mon        264858 non-null  object \n",
      " 15  next_yyyy       264849 non-null  object \n",
      " 16  fisrtparty_m    154212 non-null  object \n",
      " 17  firstparty_f    54968 non-null   float64\n",
      " 18  firstparty_org  114241 non-null  float64\n",
      " 19  secondparty_m   130603 non-null  float64\n",
      " 20  secondparty_f   51315 non-null   float64\n",
      " 21  secondparty_o   147066 non-null  float64\n",
      " 22  legalrep        352715 non-null  object \n",
      " 23  p_witness       16668 non-null   float64\n",
      " 24  d_witness       14355 non-null   float64\n",
      " 25  custody         292139 non-null  float64\n",
      " 26  other_details   51857 non-null   object \n",
      "dtypes: float64(11), object(16)\n",
      "memory usage: 76.3+ MB\n"
     ]
    }
   ],
   "source": [
    "# overview of the data \n",
    "data.info()"
   ]
  },
  {
   "cell_type": "code",
   "execution_count": 7,
   "id": "831e70f7-120d-4fb4-a8cc-c98c5efa50c8",
   "metadata": {
    "tags": []
   },
   "outputs": [
    {
     "data": {
      "text/plain": [
       "True"
      ]
     },
     "execution_count": 7,
     "metadata": {},
     "output_type": "execute_result"
    }
   ],
   "source": [
    "# duplicates \n",
    "data.duplicated().any()"
   ]
  },
  {
   "cell_type": "code",
   "execution_count": 8,
   "id": "84d55613-5ee5-443c-88e9-ed63f805b84c",
   "metadata": {
    "tags": []
   },
   "outputs": [
    {
     "name": "stdout",
     "output_type": "stream",
     "text": [
      "4560\n"
     ]
    }
   ],
   "source": [
    "# variable to store number of duplicates\n",
    "no_true = 0\n",
    "\n",
    "# loop through a bool series, where True is duplicated and False in not duplicated \n",
    "for val in data.duplicated():\n",
    "    if (val == True):\n",
    "        # increment the number of True values by one upon finding a duplicate\n",
    "        no_true += 1\n",
    "\n",
    "print(no_true)\n",
    "# print(f\"{ np.round(((no_true/len(data)) * 100), 4) } %\")"
   ]
  },
  {
   "cell_type": "code",
   "execution_count": 9,
   "id": "617a2fb1-da25-42bf-bf37-9b64e26786bf",
   "metadata": {
    "tags": []
   },
   "outputs": [
    {
     "name": "stdout",
     "output_type": "stream",
     "text": [
      "0.01276492110103043\n"
     ]
    }
   ],
   "source": [
    "# Convert the number into a percentage \n",
    "percentage = no_true / len(data)\n",
    "print(percentage)"
   ]
  },
  {
   "cell_type": "code",
   "execution_count": 10,
   "id": "10f7c9ca-02d6-4333-9938-510ac340237e",
   "metadata": {
    "tags": []
   },
   "outputs": [
    {
     "name": "stdout",
     "output_type": "stream",
     "text": [
      "1.276492110103043\n"
     ]
    }
   ],
   "source": [
    "# Converting to percentage\n",
    "conv_per = percentage * 100 \n",
    "print(conv_per)"
   ]
  },
  {
   "cell_type": "code",
   "execution_count": 12,
   "id": "1de1886b-1f2c-4d3f-b987-a72e0c76a8e2",
   "metadata": {
    "tags": []
   },
   "outputs": [
    {
     "name": "stdout",
     "output_type": "stream",
     "text": [
      "1.2765\n"
     ]
    }
   ],
   "source": [
    "# round off\n",
    "round_off = np.round(conv_per, 4)\n",
    "print(round_off)"
   ]
  },
  {
   "cell_type": "code",
   "execution_count": 13,
   "id": "b6dab2a6-f587-4ee7-8d1a-d4f7f22f2fd9",
   "metadata": {
    "tags": []
   },
   "outputs": [
    {
     "name": "stdout",
     "output_type": "stream",
     "text": [
      "1.2765% of the data is duplicated\n"
     ]
    }
   ],
   "source": [
    "# display the percentage \n",
    "print(f\"{round_off}% of the data is duplicated\")"
   ]
  },
  {
   "cell_type": "code",
   "execution_count": null,
   "id": "0113d988-e635-4d4a-8b88-4b80b6f2ab3f",
   "metadata": {},
   "outputs": [],
   "source": []
  }
 ],
 "metadata": {
  "kernelspec": {
   "display_name": "Python 3 (ipykernel)",
   "language": "python",
   "name": "python3"
  },
  "language_info": {
   "codemirror_mode": {
    "name": "ipython",
    "version": 3
   },
   "file_extension": ".py",
   "mimetype": "text/x-python",
   "name": "python",
   "nbconvert_exporter": "python",
   "pygments_lexer": "ipython3",
   "version": "3.11.3"
  }
 },
 "nbformat": 4,
 "nbformat_minor": 5
}
