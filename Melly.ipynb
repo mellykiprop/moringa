{
 "cells": [
  {
   "cell_type": "code",
   "execution_count": 13,
   "id": "1be93c49-2020-469e-a9d2-680711cbc5fa",
   "metadata": {
    "tags": []
   },
   "outputs": [],
   "source": [
    "# Hotel\n",
    "menu = {\n",
    "    \"Breakfast\" : {\n",
    "        \"Bevarages\" : {\n",
    "            \"Tea\" : [\"Black Tea\", \"Lemmon Tea\",\"Green Gea\"],\n",
    "            \"Coffee\": [\"white\", \"mocha\", \"capuccino\", \"Mocha\"],\n",
    "    },\n",
    "    \n",
    "    \"Accompanments\" : {\n",
    "            \"hoties\" : [\"chicken wings\", \"beef samosa\", \"sausages\", \"egg\"],\n",
    "            \"Tradies\" : [\"Nduma\", \"Sweet Potato\", \"casavva\"],\n",
    "            \"Extras\" : [\"Banana\", \"mahamri\", \"yellow beans\"],\n",
    "    },\n",
    "},\n",
    "    \n",
    "    \"Lunch\" : {\n",
    "        \"L_main\" : [\"Ugali\", \"Githeri\", \"Pilau\", \"white Rice\", \"Chapati\", \"potato chips\"],\n",
    "         \"L_Blends\" : [\"Chicken\", \"peas with coconut\", \"beef stew\", \"Fish\"],\n",
    "         \"L_suplus\" : [\"fried goat\" \"sukuma\", \"managu\", \"cabbage\", \"deserts\", \"assorted fruits\"],\n",
    "         \"L_Drinks\" : [\"ginger hale\", \"mango juice\", \"Dawa\", \"apple juice\", \"sodas\"],\n",
    "},\n",
    "    \n",
    "    \"Dinner\" : {\n",
    "        \"main\" : [\"Ugali\", \"Githeri\", \"Pilau\", \"white Rice\", \"Chapati\", \"potato chips\"],\n",
    "        \"Blends\" : [\"Chicken\", \"peas with coconut\", \"beef stew\", \"Fish\"],\n",
    "        \"suplus\" : [\"fried goat\", \"sukuma\", \"managu\", \"cabbage\", \"deserts\", \"assorted fruits\"], \n",
    "        \"Drinks\" : [\"ginger hale\", \"mango juice\", \"Dawa\", \"apple juice\", \"sodas\"],\n",
    "    },\n",
    "}"
   ]
  },
  {
   "cell_type": "code",
   "execution_count": 14,
   "id": "a18f55f0-9f06-49c0-ad94-02cc559e1b9f",
   "metadata": {
    "tags": []
   },
   "outputs": [
    {
     "name": "stdout",
     "output_type": "stream",
     "text": [
      "{'Breakfast': {'Bevarages': {'Tea': ['Black Tea', 'Lemmon Tea', 'Green Gea'], 'Coffee': ['white', 'mocha', 'capuccino', 'Mocha']}, 'Accompanments': {'hoties': ['chicken wings', 'beef samosa', 'sausages', 'egg'], 'Tradies': ['Nduma', 'Sweet Potato', 'casavva'], 'Extras': ['Banana', 'mahamri', 'yellow beans']}}, 'Lunch': {'L_main': ['Ugali', 'Githeri', 'Pilau', 'white Rice', 'Chapati', 'potato chips'], 'L_Blends': ['Chicken', 'peas with coconut', 'beef stew', 'Fish'], 'L_suplus': ['fried goatsukuma', 'managu', 'cabbage', 'deserts', 'assorted fruits'], 'L_Drinks': ['ginger hale', 'mango juice', 'Dawa', 'apple juice', 'sodas']}, 'Dinner': {'main': ['Ugali', 'Githeri', 'Pilau', 'white Rice', 'Chapati', 'potato chips'], 'Blends': ['Chicken', 'peas with coconut', 'beef stew', 'Fish'], 'suplus': ['fried goat', 'sukuma', 'managu', 'cabbage', 'deserts', 'assorted fruits'], 'Drinks': ['ginger hale', 'mango juice', 'Dawa', 'apple juice', 'sodas']}}\n"
     ]
    }
   ],
   "source": [
    "print(menu)"
   ]
  },
  {
   "cell_type": "code",
   "execution_count": 15,
   "id": "67b08573-7780-44ba-baaf-f6d373c2214f",
   "metadata": {
    "tags": []
   },
   "outputs": [
    {
     "name": "stdout",
     "output_type": "stream",
     "text": [
      " Melly had the following for Breakfast: \n",
      "\t* Lemmon Tea\n"
     ]
    }
   ],
   "source": [
    "print(f\" Melly had the following for Breakfast: \\n\\t* {menu['Breakfast']['Bevarages']['Tea'][1]}\")"
   ]
  },
  {
   "cell_type": "code",
   "execution_count": null,
   "id": "cbf099e8-b908-4386-b20d-b364c91d2b9f",
   "metadata": {},
   "outputs": [],
   "source": []
  }
 ],
 "metadata": {
  "kernelspec": {
   "display_name": "Python 3 (ipykernel)",
   "language": "python",
   "name": "python3"
  },
  "language_info": {
   "codemirror_mode": {
    "name": "ipython",
    "version": 3
   },
   "file_extension": ".py",
   "mimetype": "text/x-python",
   "name": "python",
   "nbconvert_exporter": "python",
   "pygments_lexer": "ipython3",
   "version": "3.11.3"
  }
 },
 "nbformat": 4,
 "nbformat_minor": 5
}
