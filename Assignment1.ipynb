{
 "cells": [
  {
   "cell_type": "markdown",
   "id": "088a13cf-27f9-4ad1-912a-33b71ba54ee0",
   "metadata": {},
   "source": [
    "# Assignment1"
   ]
  },
  {
   "cell_type": "code",
   "execution_count": 31,
   "id": "274f7121-5b8c-4e6b-b001-b5fdd86ee857",
   "metadata": {
    "tags": []
   },
   "outputs": [
    {
     "name": "stdout",
     "output_type": "stream",
     "text": [
      "[ 4168 10004  6852 16464 13753  8419 12039 12700 19139  7186  9918  9149\n",
      "  5777  7361 12338  9393  8317 18676  8605  6562 10213 17669 13100  8652\n",
      " 17173 15005 17634 15887 10235 15605  4423 15815 15926 15678 15921 10854\n",
      "  4967  8370 13052 10187  9203  4433 17097 10237 17486  5429 16489 16121\n",
      "  6546 18816 18299  4329  7612 12401 10761 18266  7968 12150 19935  5040\n",
      " 10250 12356 12798 11704 10772  9311 13411 13523 16424 13144 17147 15357\n",
      " 10011  6798 17399 12352  6195  8680 10599 13303  7085 19674  9713  9240\n",
      " 14100 15191 19168 14955  4732  9028 12473 17088 11594 16046  8566 13500\n",
      " 11444  7396 17846  9347 11034  4595  4647 16232  4573 10797  9637 12448\n",
      " 15400 15471 18799  9259 13220 10567  8444  6989 17594  4586 18132  9102]\n",
      "First 7 houses:\n",
      "[ 4168 10004  6852 16464 13753  8419 12039]\n",
      "\n",
      "Last 7 houses:\n",
      "[10567  8444  6989 17594  4586 18132  9102]\n",
      "\n",
      "Moringa_property DataFrame:\n",
      "     Price Category  Price After Tax  Price After Tax and Garbage Fee\n",
      "115   6989   Suburb           7687.9                           7937.9\n",
      "116  17594   Luxury          19353.4                          19603.4\n",
      "117   4586   Suburb           5044.6                           5294.6\n",
      "118  18132   Luxury          19945.2                          20195.2\n",
      "119   9102    Urban          10012.2                          10262.2\n"
     ]
    }
   ],
   "source": [
    "import numpy as np\n",
    "import pandas as pd\n",
    "\n",
    "# Step 1: Generate 120 random numbers between Ksh 4000 and Ksh 20,000 using numpy\n",
    "prices = np.random.randint(4000, 20000, 120)\n",
    "print (prices)\n",
    "\n",
    "# Step 2: Display the first and last 7 houses\n",
    "first_7_houses = prices[:7]\n",
    "last_7_houses = prices[-7:]\n",
    "print(\"First 7 houses:\")\n",
    "print(first_7_houses)\n",
    "print(\"\\nLast 7 houses:\")\n",
    "print(last_7_houses)\n",
    "\n",
    "# Step 3: Create a function to categorize houses\n",
    "def categorize_house(price):\n",
    "    if price < 8000:\n",
    "        return \"Suburb\"\n",
    "    elif 8000 <= price < 15000:\n",
    "        return \"Urban\"\n",
    "    else:\n",
    "        return \"Luxury\"\n",
    "\n",
    "# Step 4: Apply the categorize_house function to the series\n",
    "categories = pd.Series(prices).apply(categorize_house)\n",
    "\n",
    "# Step 5: Apply a lambda function to increase property prices by 10%\n",
    "prices_after_tax = pd.Series(prices).apply(lambda x: x * 1.10)\n",
    "\n",
    "# Step 6: Apply a custom function to increase property prices by an additional Ksh 250\n",
    "def add_garbage_fee(price):\n",
    "    return price + 250\n",
    "\n",
    "prices_after_garbage_fee = pd.Series(prices_after_tax).apply(add_garbage_fee)\n",
    "\n",
    "# Step 7: Create new Series and combine them into a DataFrame\n",
    "data = {\n",
    "    'Price': pd.Series(prices),\n",
    "    'Category': categories,\n",
    "    'Price After Tax': prices_after_tax,\n",
    "    'Price After Tax and Garbage Fee': prices_after_garbage_fee\n",
    "}\n",
    "\n",
    "Moringa_property = pd.DataFrame(data)\n",
    "\n",
    "# Display the first few rows of the DataFrame\n",
    "print(\"\\nMoringa_property DataFrame:\")\n",
    "print(Moringa_property.tail())"
   ]
  },
  {
   "cell_type": "code",
   "execution_count": null,
   "id": "8097d7d4-1bfc-4d98-9e85-a9507fd2d2b7",
   "metadata": {},
   "outputs": [],
   "source": []
  },
  {
   "cell_type": "code",
   "execution_count": null,
   "id": "d5be030f-b660-45c3-b1dd-3d571ab50164",
   "metadata": {},
   "outputs": [],
   "source": []
  }
 ],
 "metadata": {
  "kernelspec": {
   "display_name": "Python 3 (ipykernel)",
   "language": "python",
   "name": "python3"
  },
  "language_info": {
   "codemirror_mode": {
    "name": "ipython",
    "version": 3
   },
   "file_extension": ".py",
   "mimetype": "text/x-python",
   "name": "python",
   "nbconvert_exporter": "python",
   "pygments_lexer": "ipython3",
   "version": "3.11.3"
  }
 },
 "nbformat": 4,
 "nbformat_minor": 5
}
