{
 "cells": [
  {
   "cell_type": "markdown",
   "id": "f8392d22-06aa-430d-935f-4783ef408d1f",
   "metadata": {},
   "source": [
    "## objectives\n",
    "\n",
    "*Understand the concept\n",
    "*Demonstrate the types of loops\n",
    "*Discuss the synthax\n",
    "*Understand the concept of loop control\n",
    "*Discuss iteration\n",
    "*Discuss Nested Loops\n",
    "*Enhancing loop Functionality"
   ]
  },
  {
   "cell_type": "code",
   "execution_count": null,
   "id": "8df79993-1592-4d71-816f-dc915311a2a0",
   "metadata": {},
   "outputs": [],
   "source": []
  },
  {
   "cell_type": "markdown",
   "id": "b7905c68-ab9e-4d09-ab00-cf61865f30b0",
   "metadata": {},
   "source": [
    "## Introduction to Repitition\n",
    "\n",
    "*Repitition is a fundamental concept in programming that involves performing the same set of instructions multiple times.\n",
    "*Used to automate tasks that require repeated execution of code.\n",
    "example the *mpesa menu*\n",
    "*Loops are key mechanism in programming to achieve this repetition efficiently."
   ]
  },
  {
   "cell_type": "code",
   "execution_count": 2,
   "id": "ea96514a-cceb-4ca1-9211-eb9a03ccf78e",
   "metadata": {
    "tags": []
   },
   "outputs": [
    {
     "name": "stdout",
     "output_type": "stream",
     "text": [
      "1\n",
      "2\n",
      "3\n"
     ]
    }
   ],
   "source": [
    " # consider a scenario counting 1 to 10\n",
    "print(1)\n",
    "print(2)\n",
    "print(3)"
   ]
  },
  {
   "cell_type": "code",
   "execution_count": 4,
   "id": "d48b3e1c-ee72-4f75-8c5e-1c33dfd29af6",
   "metadata": {
    "tags": []
   },
   "outputs": [
    {
     "name": "stdout",
     "output_type": "stream",
     "text": [
      "1\n",
      "2\n",
      "3\n",
      "4\n",
      "5\n",
      "6\n",
      "7\n",
      "8\n",
      "9\n",
      "10\n"
     ]
    }
   ],
   "source": [
    "# programming loops to automate such repetitive tasks\n",
    "for  num in range(1, 11,):\n",
    "    print(num)"
   ]
  },
  {
   "cell_type": "code",
   "execution_count": 6,
   "id": "47c7ef70-92f1-4e70-8cbd-e994f44d33de",
   "metadata": {
    "tags": []
   },
   "outputs": [
    {
     "name": "stdout",
     "output_type": "stream",
     "text": [
      "Number: 0\n",
      "Number: 1\n",
      "Number: 2\n",
      "Number: 3\n",
      "Number: 4\n"
     ]
    }
   ],
   "source": [
    "#use while loops\n",
    "count = 0\n",
    "\n",
    "while (count < 5):\n",
    "    print(\"Number:\", count)\n",
    "    count += 1 # what does this code do?"
   ]
  },
  {
   "cell_type": "markdown",
   "id": "becd4ccf-d305-4bc5-b05a-585b5fc1ce46",
   "metadata": {},
   "source": [
    "## What is a loop?\n",
    "\n",
    "* A loop is a programming construct that enables the repeated execution of a specific block of code.\n",
    "* Loops are used when you want to automate task that needs to be performed multiple times 8intended block of code*\n",
    "* They control the flow of the program, allowing certain code to be executed repeatedly untill a **condition is met**"
   ]
  },
  {
   "cell_type": "code",
   "execution_count": 7,
   "id": "cb5168e1-3a3c-44da-969e-cd4f9147d7bc",
   "metadata": {
    "tags": []
   },
   "outputs": [
    {
     "name": "stdout",
     "output_type": "stream",
     "text": [
      "55\n"
     ]
    }
   ],
   "source": [
    "# sum the numbers between 1 and 10\n",
    "\n",
    "sum = 1+2+3+4+5+6+7+8+9+10\n",
    "\n",
    "print(sum)"
   ]
  },
  {
   "cell_type": "code",
   "execution_count": 8,
   "id": "e51b6b13-95c4-40ff-9a2a-09eb298987eb",
   "metadata": {
    "tags": []
   },
   "outputs": [
    {
     "name": "stdout",
     "output_type": "stream",
     "text": [
      "55\n"
     ]
    }
   ],
   "source": [
    "# use a loop to find sum of numbers between 1 and 10\n",
    "\n",
    "# declare a variable to store the sum\n",
    "sum = 0\n",
    "# creating a loop >> for loop\n",
    "for num in range(1,11): #range (1,110 >> all the numbers between 1 and 11 excluding 11\n",
    "    # increment of the value of sum by the value of num\n",
    "    sum += num\n",
    "print(sum)"
   ]
  },
  {
   "cell_type": "markdown",
   "id": "4ead4fcd-cc97-4935-8e9b-c068a1910b5e",
   "metadata": {},
   "source": [
    "## Control Flow\n",
    "\n",
    "* Loops influence the order in which instructions are executed.\n",
    "* When a loop is encountered, the program enters a loop body, executing the contained code.\n",
    "* Synthax\n",
    "\n",
    "```\n",
    "loop made of a condition:\n",
    "    contained block of\n",
    "    code to be executed\n",
    "    when condition is True/met\n",
    "    \n",
    "Program exits the loop\n",
    "```\n",
    "* At each iteration, the program checks the loop condition. If the condition remains **True**, the loop body is executed again.\n",
    "* If it becomes **False**, the program exits the loop.\n",
    "\n",
    "* **Iteration** Refers to each cycle or repetion of a lopp"
   ]
  },
  {
   "cell_type": "code",
   "execution_count": 12,
   "id": "fe68a50d-e762-4256-b180-29287b2ad037",
   "metadata": {
    "tags": []
   },
   "outputs": [
    {
     "name": "stdout",
     "output_type": "stream",
     "text": [
      "This is an example of a loop\n",
      "we are demonstrating while loops\n",
      "Countdoown value: 5!!\n",
      "Countdoown value: 4!!\n",
      "Countdoown value: 3!!\n",
      "Countdoown value: 2!!\n",
      "Countdoown value: 1!!\n",
      "Exit loop!! and program continue\n"
     ]
    }
   ],
   "source": [
    "# demonstration of control flow\n",
    "# assume the print statement below are blocks of code\n",
    "print(\"This is an example of a loop\")\n",
    "print(\"we are demonstrating while loops\")\n",
    "# loop to simulate a count down\n",
    "countdown = 5\n",
    "\n",
    "# our program meets a loop block >> while loop\n",
    "while (countdown > 0):\n",
    "    # code to execute when condition is true\n",
    "    print(f\"Countdoown value: {countdown}!!\")\n",
    "    countdown -= 1\n",
    "# program exits the loop when the condition is never met\n",
    "print(\"Exit loop!! and program continue\")"
   ]
  },
  {
   "cell_type": "markdown",
   "id": "e1d9014e-218a-4782-9c28-8625546a4ee8",
   "metadata": {},
   "source": [
    "## Types of loop\n",
    "\n",
    "* There are two main types of loops in python:\n",
    ">> ```for``` and ```while```\n",
    "* Type of loop you choose depends on whether you know the number of iterations in advance or if it depends on a condition.\n",
    "* When you know the number of iterations, use while loop, when you don't, use a for loop."
   ]
  },
  {
   "cell_type": "markdown",
   "id": "9a9cdbba-0b07-438c-8185-7cf66d572296",
   "metadata": {},
   "source": [
    "### For Loop\n",
    "\n",
    "* Basic Synthax\n",
    "\n",
    "```\n",
    "for item in sequence:\n",
    "    # code to be executed for each item\n",
    "    # ...\n",
    "```\n",
    "*`for`: Keyword that signals the start of a for loop.\n",
    "*`item`: Is a variable that represents the current item in the sequence during each iterration of the loop.\n",
    "*`in` : A keyword used to specify that you are iterating *in* the given sequence.\n",
    "*`sequence` : Collection of items that you want to iterate over (e.g.,\n",
    "lists, string, tuple or range).\n",
    "*`:` : Signifies the start of the intended code block that will be executed for each itertion of the loop.\n",
    "\n",
    "Inside the intended code block, you place the actions or operations that you want to perform on each item in the sequence. The loop will automatically iterate through the entire sequence,\n",
    "executing the code block for each item."
   ]
  },
  {
   "cell_type": "code",
   "execution_count": 5,
   "id": "ba42e188-0849-44e2-8d80-1eaeeb332c6c",
   "metadata": {
    "tags": []
   },
   "outputs": [
    {
     "name": "stdout",
     "output_type": "stream",
     "text": [
      "Kisumu\n",
      "Kisii\n",
      "Nyamira\n",
      "Homabay\n",
      "Migori\n"
     ]
    }
   ],
   "source": [
    "# code demonstration\n",
    "# list of high courts in kenya\n",
    "high_courts = ['Kisumu', 'Kisii', 'Nyamira', 'Homabay', 'Migori', 'Kitale']\n",
    "\n",
    "for court in high_courts:\n",
    "        # code block to execute for each item\n",
    "        print(court)\n",
    "        if  (court == 'Migori'):\n",
    "            break;\n",
    "    "
   ]
  },
  {
   "cell_type": "markdown",
   "id": "7296390e-d637-45f9-904c-8684eb22c381",
   "metadata": {},
   "source": [
    " ### Sequence Types\n",
    " \n",
    " * Refers to data structures that hold a collection of elements, where each element is accessible by an index or a key.\n",
    " * These elements are ordered, meaning they have a specific position with the sequence."
   ]
  },
  {
   "cell_type": "code",
   "execution_count": 8,
   "id": "44e96a2b-d701-4ffb-881f-bb68dec03817",
   "metadata": {
    "tags": []
   },
   "outputs": [
    {
     "name": "stdout",
     "output_type": "stream",
     "text": [
      "['Kisumu', 'Kisii', 'Nyamira', 'Homabay', 'Migori', 'Kitale']\n",
      "Homabay\n"
     ]
    }
   ],
   "source": [
    " # list\n",
    "    \n",
    "print(high_courts)\n",
    "\n",
    "# accessing elements/items in alist by index\n",
    "print(high_courts[3])\n",
    " "
   ]
  },
  {
   "cell_type": "code",
   "execution_count": 19,
   "id": "38c2110e-d2d6-46ee-9823-88b750ace884",
   "metadata": {
    "tags": []
   },
   "outputs": [
    {
     "name": "stdout",
     "output_type": "stream",
     "text": [
      "kisumu\n",
      "kisii\n",
      "nyamira\n",
      "homabay\n",
      "migori\n",
      "kitale\n"
     ]
    }
   ],
   "source": [
    " # looping through list court\n",
    " for court in high_courts:\n",
    "        # code to execute\n",
    "        lower_case = court.lower()\n",
    "        print(lower_case)"
   ]
  },
  {
   "cell_type": "code",
   "execution_count": 20,
   "id": "bd257776-9676-48dc-8668-aabf70892a57",
   "metadata": {
    "tags": []
   },
   "outputs": [
    {
     "name": "stdout",
     "output_type": "stream",
     "text": [
      "('Kocheli', 'Solo', 'Nyambane', 'Yusuf')\n"
     ]
    }
   ],
   "source": [
    "# tuple > Similar to lists, but they are immutable, meaning:\n",
    "# their contents cannot be changed after creation\n",
    "# synthax tuple_name = (item1, item2, ...)\n",
    "\n",
    "noise_makers = (\"Kocheli\", \"Solo\", \"Nyambane\", \"Yusuf\")\n",
    "print(noise_makers)"
   ]
  },
  {
   "cell_type": "code",
   "execution_count": 23,
   "id": "18ec8873-675d-46af-9e0d-3e3f07e02de5",
   "metadata": {
    "tags": []
   },
   "outputs": [
    {
     "name": "stdout",
     "output_type": "stream",
     "text": [
      "Kocheli\n",
      "Solo\n",
      "Nyambane\n",
      "Yusuf\n"
     ]
    }
   ],
   "source": [
    "# loop throgh items in a tuple\n",
    "for notorious in noise_makers:\n",
    "         # code to be executed\n",
    "         print(notorious)"
   ]
  },
  {
   "cell_type": "code",
   "execution_count": 1,
   "id": "03fed63b-8fb3-4ff0-bbac-5500a8033a5c",
   "metadata": {},
   "outputs": [
    {
     "name": "stdout",
     "output_type": "stream",
     "text": [
      "J\n",
      "u\n",
      "d\n",
      "i\n",
      "c\n",
      "i\n",
      "a\n",
      "r\n",
      "y\n"
     ]
    }
   ],
   "source": [
    "# iterating through a string\n",
    "\n",
    "word = \"Judiciary\"\n",
    "\n",
    "for char in word:\n",
    "    print(char)"
   ]
  },
  {
   "cell_type": "code",
   "execution_count": 2,
   "id": "c6a086ce-262b-4849-af74-421b1c1dc44c",
   "metadata": {
    "tags": []
   },
   "outputs": [
    {
     "name": "stdout",
     "output_type": "stream",
     "text": [
      "['J', 'u', 'd', 'i', 'c', 'i', 'a', 'r', 'y']\n"
     ]
    }
   ],
   "source": [
    "# empty list to store characters\n",
    "word_chars = []\n",
    "\n",
    "for char in word:\n",
    "    word_chars.append(char)\n",
    "print(word_chars)"
   ]
  },
  {
   "cell_type": "code",
   "execution_count": 5,
   "id": "5d895790-5fe3-4bae-ace0-44b3603db1a7",
   "metadata": {
    "tags": []
   },
   "outputs": [
    {
     "name": "stdout",
     "output_type": "stream",
     "text": [
      "[1, 3, 5, 7, 9]\n"
     ]
    }
   ],
   "source": [
    "# range\n",
    "\n",
    "# empty list to store odd numbers\n",
    "odd_nums = []\n",
    "\n",
    "for num in range(1, 10):\n",
    "    if (num % 2 == 1):\n",
    "        odd_nums.append(num)\n",
    "        \n",
    "print(odd_nums)\n"
   ]
  },
  {
   "cell_type": "code",
   "execution_count": 7,
   "id": "ebfb0626-fa60-4af5-ab66-da0b491d69df",
   "metadata": {
    "tags": []
   },
   "outputs": [
    {
     "data": {
      "text/plain": [
       "list"
      ]
     },
     "execution_count": 7,
     "metadata": {},
     "output_type": "execute_result"
    }
   ],
   "source": [
    "new_list = []\n",
    "\n",
    "type(new_list)"
   ]
  },
  {
   "cell_type": "markdown",
   "id": "291277ce-f54e-45dd-88e4-24d05b033f93",
   "metadata": {},
   "source": [
    "### Loop Body"
   ]
  },
  {
   "cell_type": "markdown",
   "id": "afd5b0f3-62e4-4bdf-8fd6-38bbaf3f92e6",
   "metadata": {},
   "source": [
    " * Refers to the block of code that is executed repeatedly for each iteration of loop.\n",
    "  * In programming, a loop is designed to perform repeated tasks automatically and the loop body contains the instructions that define what those actions are."
   ]
  },
  {
   "cell_type": "markdown",
   "id": "bf6092ef-131d-44af-aebc-34fab87f47e2",
   "metadata": {},
   "source": [
    "#### Important points to consider:\n",
    "\n",
    "1. **indentation** - The loop body is indented to indicate that is the part of the loop. It defines the scope of the loop body.\n",
    "\n",
    "2. **Iteration** - loop body is executed once for each item in the sequence that contains the elements upon which the instructions and executions will be repeated.\n",
    "\n",
    "3. **accessing loop variable** - the loop variable value can be accessed inside the loop body to perform specific actions to that value.\n",
    "\n",
    "4. **manipulation** - inside the loop body, you can perform various operations on the loop variable or use it to interact with other parts of the program."
   ]
  },
  {
   "cell_type": "code",
   "execution_count": 8,
   "id": "ec290d4c-2228-443c-8456-25cec95d324f",
   "metadata": {
    "tags": []
   },
   "outputs": [
    {
     "name": "stdout",
     "output_type": "stream",
     "text": [
      " The square of 1 = 1\n",
      " The square of 2 = 4\n",
      " The square of 3 = 9\n",
      " The square of 4 = 16\n",
      " The square of 5 = 25\n"
     ]
    }
   ],
   "source": [
    "# example\n",
    "\n",
    "for num in range(1, 6):\n",
    "    square = num ** 2\n",
    "    print(f\" The square of {num} = {square}\")"
   ]
  },
  {
   "cell_type": "markdown",
   "id": "ddba9600-baa3-424e-baa6-6a5bfd8139a7",
   "metadata": {},
   "source": [
    "### `range()`\n",
    "\n",
    "* a function commonly used especially when working with loops.\n",
    "* Generates a sequence of numbers within a specified range, whic can be used for various purposes, e.g. , iterating through a loop of certain numbers or ceating a list of numbers.\n",
    "* `range()` takes upto three arguments:\n",
    "\n",
    "1. **start(inclusive, optional)** - The starting value of the sequence. If omitted, the sequence starts from Zero by default.\n",
    "2. **stop(exclusive)** - The ending value of the sequence. The sequence will go up the value, but not include the value in the sequence.example if stop is 50, and start is 0, the sequence will be all the numbers including 0 to 49, but not 50.\n",
    "3. **step(optional)** - The difference between consecutive values in the sequence. By default, the value of step is 1.\n",
    "\n",
    " * Synthax \n",
    " ```range(start, stop, step)```"
   ]
  },
  {
   "cell_type": "markdown",
   "id": "613bd6b2-c96f-418b-acb2-a2bcd1b1d4de",
   "metadata": {
    "tags": []
   },
   "source": [
    "####  Basic Range \n",
    "\n",
    "* Only using stop to generate a sequence of numbers from 0 to 10\n",
    "* Remember if you dont include start and step, python will automatically pick the numbers 0 and 1 as the default value for stop and step."
   ]
  },
  {
   "cell_type": "code",
   "execution_count": 18,
   "id": "8c2b7b0e-3544-46c4-ab43-0600181d5070",
   "metadata": {
    "tags": []
   },
   "outputs": [
    {
     "name": "stdout",
     "output_type": "stream",
     "text": [
      "0\n",
      "1\n",
      "2\n",
      "3\n",
      "4\n",
      "5\n",
      "6\n",
      "7\n",
      "8\n",
      "9\n",
      "10\n"
     ]
    }
   ],
   "source": [
    "# from o to 10\n",
    "for num in range(11):\n",
    "        print(num)"
   ]
  },
  {
   "cell_type": "markdown",
   "id": "06bf87f1-9b09-47de-985a-e3bf84aab62a",
   "metadata": {},
   "source": [
    "#### Specify start and stop\n",
    "\n",
    "* generate a sequence where we specify the start of the sequence."
   ]
  },
  {
   "cell_type": "code",
   "execution_count": 19,
   "id": "a8457915-81ed-49fc-bcd3-b0871ba9282c",
   "metadata": {
    "tags": []
   },
   "outputs": [
    {
     "name": "stdout",
     "output_type": "stream",
     "text": [
      "30\n",
      "31\n",
      "32\n",
      "33\n",
      "34\n",
      "35\n",
      "36\n",
      "37\n",
      "38\n",
      "39\n",
      "40\n"
     ]
    }
   ],
   "source": [
    "# numbers between 30 and 40\n",
    "\n",
    "for num in range(30, 41):\n",
    "    print(num)"
   ]
  },
  {
   "cell_type": "markdown",
   "id": "f4cbc071-be5b-4e4a-8640-47e7e78f7e80",
   "metadata": {},
   "source": [
    "#### Specifying  start, stop and step\n",
    "\n",
    "* step is the difference between two consecutive numbers"
   ]
  },
  {
   "cell_type": "code",
   "execution_count": 23,
   "id": "8083a689-d0bd-4cf1-a740-a65a91f8568c",
   "metadata": {
    "tags": []
   },
   "outputs": [
    {
     "name": "stdout",
     "output_type": "stream",
     "text": [
      "6\n",
      "9\n",
      "12\n",
      "15\n",
      "18\n",
      "21\n",
      "24\n",
      "27\n",
      "30\n"
     ]
    }
   ],
   "source": [
    "# start at number 6\n",
    "# stop at 30\n",
    "#step-difference between two consecutive values is 3\n",
    "for num in range(6, 31, 3):\n",
    "    print(num)"
   ]
  },
  {
   "cell_type": "code",
   "execution_count": 29,
   "id": "37a26fa1-b08f-42e0-bdc8-c923bbfa9ef6",
   "metadata": {
    "tags": []
   },
   "outputs": [
    {
     "name": "stdout",
     "output_type": "stream",
     "text": [
      "[0, 2, 4, 6, 8, 10, 12, 14, 16, 18, 20, 22, 24, 26, 28, 30, 32, 34, 36, 38, 40, 42, 44, 46, 48, 50, 52, 54, 56, 58, 60, 62, 64, 66, 68, 70, 72, 74, 76, 78, 80, 82, 84, 86, 88, 90, 92, 94, 96, 98, 100]\n"
     ]
    }
   ],
   "source": [
    "# disclaimer -- for demonstration purposes only\n",
    "odd_numbers = []\n",
    "for num in range(0, 101, 2):\n",
    "    odd_numbers.append(num)\n",
    "print(odd_numbers)\n",
    "    "
   ]
  },
  {
   "cell_type": "code",
   "execution_count": 30,
   "id": "9499e332-1c45-42d5-a6a8-e89127559452",
   "metadata": {
    "tags": []
   },
   "outputs": [
    {
     "name": "stdout",
     "output_type": "stream",
     "text": [
      "['Prof', 'Kirui', 'Mercy', 'Lumumba']\n"
     ]
    }
   ],
   "source": [
    " print(student_names)"
   ]
  },
  {
   "cell_type": "code",
   "execution_count": 32,
   "id": "023e46a4-fe43-48c3-a547-459cde8ced21",
   "metadata": {
    "tags": []
   },
   "outputs": [
    {
     "name": "stdout",
     "output_type": "stream",
     "text": [
      "P\n",
      "r\n",
      "o\n",
      "f\n",
      "\n",
      "Prof\n",
      "Kirui\n",
      "Mercy\n",
      "Lumumba\n"
     ]
    }
   ],
   "source": [
    "item_1 = student_names[0]\n",
    "\n",
    "for letters in item_1:\n",
    "    print(letters)\n",
    "print()\n",
    "for students in student_names:\n",
    "    print(students)"
   ]
  },
  {
   "cell_type": "code",
   "execution_count": 35,
   "id": "0aa86cf8-8998-4c55-9d61-c0605a8d3e59",
   "metadata": {
    "tags": []
   },
   "outputs": [
    {
     "name": "stdout",
     "output_type": "stream",
     "text": [
      "P\n",
      "r\n",
      "o\n",
      "f\n",
      "\n",
      "K\n",
      "i\n",
      "r\n",
      "u\n",
      "i\n",
      "\n",
      "M\n",
      "e\n",
      "r\n",
      "c\n",
      "y\n",
      "\n",
      "L\n",
      "u\n",
      "m\n",
      "u\n",
      "m\n",
      "b\n",
      "a\n",
      "\n"
     ]
    }
   ],
   "source": [
    "# nested loops - a loop within a loop. i.e the second loop is within the loop body of the first loop\n",
    "\n",
    "for student in student_names: # first loop\n",
    "    for letter in student: # second loop\n",
    "        print(letter)\n",
    "    print() # line break after every name\n",
    "    "
   ]
  },
  {
   "cell_type": "code",
   "execution_count": 36,
   "id": "b222de5c-85cb-4f2c-b290-e62a63a3eb7b",
   "metadata": {
    "tags": []
   },
   "outputs": [
    {
     "name": "stdout",
     "output_type": "stream",
     "text": [
      "* \n",
      "* * \n",
      "* * * \n",
      "* * * * \n"
     ]
    }
   ],
   "source": [
    "for i in range(1, 5):  \n",
    "    print('* ' * i)"
   ]
  },
  {
   "cell_type": "code",
   "execution_count": 37,
   "id": "60c5bea1-e193-4d17-bb35-5c0b1c546897",
   "metadata": {
    "tags": []
   },
   "outputs": [
    {
     "name": "stdout",
     "output_type": "stream",
     "text": [
      "AntonnyAntonny\n"
     ]
    }
   ],
   "source": [
    "print('Antonny' *2)"
   ]
  },
  {
   "cell_type": "code",
   "execution_count": 41,
   "id": "235507d4-0452-46bb-ac47-5928a3ded478",
   "metadata": {
    "tags": []
   },
   "outputs": [
    {
     "name": "stdout",
     "output_type": "stream",
     "text": [
      "* \n",
      "* * \n",
      "* * * \n",
      "* * * * \n"
     ]
    }
   ],
   "source": [
    "# define the number of rows\n",
    "num_rows = 4\n",
    "\n",
    "# outer loop for rows\n",
    "for i in range(num_rows):\n",
    "    # inner loop for printing asterisks (*)\n",
    "    for j in range(i + 1):\n",
    "        print(\"*\", end =\" \") #by default value of end is a new line\n",
    "    # move to the next line after each row is printed\n",
    "    print()"
   ]
  },
  {
   "cell_type": "code",
   "execution_count": 51,
   "id": "381a6176-c339-4b3c-b86c-0834171ae59e",
   "metadata": {
    "tags": []
   },
   "outputs": [
    {
     "name": "stdout",
     "output_type": "stream",
     "text": [
      "* * * * \n",
      "* * * \n",
      "* * \n",
      "* \n"
     ]
    }
   ],
   "source": [
    "# define the number of rows\n",
    "num_columns = 4\n",
    "\n",
    "# outer loop for rows\n",
    "for i in range(num_columns):\n",
    "    # outer loop for printing asterisks (*)\n",
    "    for j in range(4 - i):\n",
    "        print(\"*\", end =\" \")\n",
    "    # move to the next line after each row is printed\n",
    "    print()"
   ]
  },
  {
   "cell_type": "code",
   "execution_count": 25,
   "id": "5dd967ae-ba28-4335-83b8-6a5f94eb64f6",
   "metadata": {
    "tags": []
   },
   "outputs": [
    {
     "name": "stdout",
     "output_type": "stream",
     "text": [
      "     \n",
      "    *\n",
      "   **\n",
      "  ***\n",
      " ****\n",
      "*****\n"
     ]
    }
   ],
   "source": [
    "#print a triangle\n",
    "rows = 5\n",
    "#control the number of rows\n",
    "for i in range(rows +1):\n",
    "    for j in range(rows - i):\n",
    "        print(\" \", end=\"\")\n",
    "    for k in range(i):\n",
    "        print(\"*\", end=\"\")\n",
    "    print()"
   ]
  },
  {
   "cell_type": "code",
   "execution_count": null,
   "id": "c6923875-b1a5-4ce5-a364-9e6e84bc87dc",
   "metadata": {},
   "outputs": [],
   "source": []
  },
  {
   "cell_type": "code",
   "execution_count": null,
   "id": "e5b40e75-3ef1-41c8-b3af-63003c9cf000",
   "metadata": {},
   "outputs": [],
   "source": []
  },
  {
   "cell_type": "code",
   "execution_count": 13,
   "id": "ea3d1f58-9885-4382-9b51-495c962297ed",
   "metadata": {
    "tags": []
   },
   "outputs": [
    {
     "name": "stdout",
     "output_type": "stream",
     "text": [
      "Hello Dominic, welcome to training!!\n"
     ]
    }
   ],
   "source": [
    "def greet_students(student_name):\n",
    "    message = f\"Hello {student_name}, welcome to training!!\"\n",
    "    \n",
    "    return print(message)\n",
    "greet_students(\"Dominic\")\n"
   ]
  },
  {
   "cell_type": "code",
   "execution_count": 15,
   "id": "5f671c87-d3eb-4bc3-9e46-33e20bf8e2e0",
   "metadata": {
    "tags": []
   },
   "outputs": [
    {
     "name": "stdout",
     "output_type": "stream",
     "text": [
      "Hello Prof, welcome to training!!\n",
      "Hello Kirui, welcome to training!!\n",
      "Hello Mercy, welcome to training!!\n",
      "Hello Lumumba, welcome to training!!\n"
     ]
    }
   ],
   "source": [
    "student_names = ['Prof', 'Kirui', 'Mercy', 'Lumumba']\n",
    "\n",
    "# loop body with a function\n",
    "\n",
    "for name in student_names:\n",
    "    greet_students(name)\n",
    "    "
   ]
  },
  {
   "cell_type": "code",
   "execution_count": null,
   "id": "80abeb1e-f087-4668-bc34-93dac9f50d0d",
   "metadata": {},
   "outputs": [],
   "source": []
  }
 ],
 "metadata": {
  "kernelspec": {
   "display_name": "Python 3 (ipykernel)",
   "language": "python",
   "name": "python3"
  },
  "language_info": {
   "codemirror_mode": {
    "name": "ipython",
    "version": 3
   },
   "file_extension": ".py",
   "mimetype": "text/x-python",
   "name": "python",
   "nbconvert_exporter": "python",
   "pygments_lexer": "ipython3",
   "version": "3.11.3"
  }
 },
 "nbformat": 4,
 "nbformat_minor": 5
}
